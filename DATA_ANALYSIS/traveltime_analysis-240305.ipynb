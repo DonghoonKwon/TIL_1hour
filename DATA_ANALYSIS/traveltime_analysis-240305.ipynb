{
 "cells": [
  {
   "cell_type": "code",
   "execution_count": 122,
   "metadata": {},
   "outputs": [],
   "source": [
    "## 1) Basic\n",
    "import os\n",
    "import matplotlib\n",
    "import matplotlib.pyplot as plt\n",
    "import pandas as pd\n",
    "import numpy as np\n",
    "import numpy.random as rnd\n",
    "import random\n",
    "import copy\n",
    "import gc\n",
    "import itertools\n",
    "from collections import defaultdict\n",
    "from datetime import datetime, timedelta\n",
    "import time"
   ]
  },
  {
   "cell_type": "code",
   "execution_count": null,
   "metadata": {},
   "outputs": [],
   "source": [
    "base_path = \"***\""
   ]
  },
  {
   "cell_type": "code",
   "execution_count": 123,
   "metadata": {},
   "outputs": [
    {
     "name": "stdout",
     "output_type": "stream",
     "text": [
      "    stnLine stnName  stnID\n",
      "0       1호선     소요산   1916\n",
      "1       1호선     동두천   1915\n",
      "2       1호선      보산   1914\n",
      "3       1호선   동두천중앙   1913\n",
      "4       1호선      지행   1912\n",
      "..      ...     ...    ...\n",
      "722   인천2호선   모래내시장   3223\n",
      "723   인천2호선      만수   3224\n",
      "724   인천2호선    남동구청   3225\n",
      "725   인천2호선   인천대공원   3226\n",
      "726   인천2호선      운연   3227\n",
      "\n",
      "[727 rows x 3 columns]\n"
     ]
    }
   ],
   "source": [
    "\n",
    "len(os.listdir(base_path+\"/240304/01_rawData\"))\n",
    "\n",
    "station_list = pd.read_csv(base_path+\"/stationInfo_stnLine_stnName.csv\", encoding=\"EUC-KR\")\n",
    "\n",
    "print(station_list)"
   ]
  },
  {
   "cell_type": "code",
   "execution_count": 124,
   "metadata": {},
   "outputs": [
    {
     "name": "stdout",
     "output_type": "stream",
     "text": [
      "['1호선' '2호선' '3호선' '4호선' '5호선' '6호선' '7호선' '8호선' '9호선' '경강선' '경의중앙선' '경춘선'\n",
      " '공항철도' '김포도시철도' '분당선' '서해선' '수인선' '신분당선' '용인경전철' '우이신설경전철' '의정부경전철'\n",
      " '인천1호선' '인천2호선']\n"
     ]
    }
   ],
   "source": [
    "station_name_list = station_list['stnLine'].unique()\n",
    "print(station_name_list)"
   ]
  },
  {
   "cell_type": "code",
   "execution_count": 125,
   "metadata": {},
   "outputs": [
    {
     "name": "stdout",
     "output_type": "stream",
     "text": [
      "Completed... 02:17:26\n"
     ]
    }
   ],
   "source": [
    "print(f\"Completed... {time.strftime('%H:%M:%S')}\")"
   ]
  },
  {
   "cell_type": "code",
   "execution_count": 126,
   "metadata": {},
   "outputs": [],
   "source": [
    "## \n",
    "# csv_list = ['소요산_동두천중앙-210308_통행OD-240227.csv', '소요산_동두천중앙-210309_통행OD-240227.csv', '소요산_동두천중앙-210310_통행OD-240227.csv', '소요산_동두천중앙-210311_통행OD-240227.csv', '소요산_동두천중앙-210312_통행OD-240227.csv']\n",
    "\n",
    "\"\"\"\n",
    "def: O에 대해 D를 하나 받으면 데이터를 다 출력해서 list로 저장해주는 함수\n",
    "\"\"\"\n",
    "\n",
    "def return_collect_list(csv_list):\n",
    "    collect_list = []\n",
    "\n",
    "    for k_idx in range(0,5):\n",
    "        temp_csv = pd.read_csv(base_path+\"/240304/01_rawData/\"+csv_list[k_idx], encoding=\"EUC-KR\")\n",
    "        inveh_time_list = temp_csv['INVTIME'].values.tolist()\n",
    "        collect_list.append(inveh_time_list)\n",
    "    collect_list = np.concatenate(collect_list).tolist()\n",
    "\n",
    "    return collect_list\n"
   ]
  },
  {
   "cell_type": "code",
   "execution_count": 137,
   "metadata": {},
   "outputs": [],
   "source": [
    "\"\"\"\n",
    "def: 주어진 result_list_by_line으로 boxplot 그리기\n",
    "\"\"\"\n",
    "\n",
    "# input 한번 정리하기\n",
    "\n",
    "def draw_boxplot(o_idx, line_idx, station_number, input):\n",
    "\n",
    "    plt.rcParams['font.family'] ='Malgun Gothic'\n",
    "    plt.rcParams['axes.unicode_minus'] =False\n",
    "\n",
    "    label_list = []\n",
    "    for idx in range(0, len(input)):\n",
    "        label_list.append(input[idx][0])\n",
    "    # print(label_list)\n",
    "\n",
    "    data_list = []\n",
    "    for idx in range(0, len(input)):\n",
    "        data_list.append(input[idx][1])\n",
    "\n",
    "    x_index_numbering = np.arange(1,(len(input)+1)) \n",
    "\n",
    "    plt.figure(figsize = (15, 10))\n",
    "    plt.boxplot(data_list, whis = 3, notch = True)\n",
    "    plt.xticks(x_index_numbering, label_list, rotation=90)\n",
    "    plt.title( ':::::  역간 통행시간(초)  ' + ':::::  ' + '출발역: ' + o_idx + '('+ line_idx + ', '+ str(station_number) + ')  :::::',\n",
    "              fontdict = {'fontsize' : 18})\n",
    "    # plt.show()\n",
    "    \n",
    "    plt.savefig(base_path + '/240304/02_result/' + line_idx + '_' + str(station_number) + '_' + o_idx+'.png')"
   ]
  },
  {
   "cell_type": "code",
   "execution_count": null,
   "metadata": {},
   "outputs": [],
   "source": [
    "idx = 0\n",
    "line_analysis = ['1호선', '2호선', '3호선', '4호선', '5호선', '6호선', '7호선', '8호선', '9호선']\n",
    "\n",
    "\n",
    "for idx in range(1, len(line_analysis)):\n",
    "    line_idx = line_analysis[idx]\n",
    "\n",
    "    selected_line = station_list[station_list['stnLine'] == line_idx]\n",
    "    # selected_line['stnName'][0]\n",
    "\n",
    "    # result_list_by_line = []\n",
    "    # selected_line['stnName']\n",
    "    for o_idx in selected_line['stnName']:\n",
    "        \n",
    "        station_number = (station_list[station_list['stnName']==o_idx]['stnID']).iloc[0]\n",
    "        print(\"::::::::::::::::::::: \" + o_idx)\n",
    "        \n",
    "        result_list_by_origin= []\n",
    "        for d_idx in selected_line['stnName']:\n",
    "            \n",
    "            \n",
    "            str_combination = (o_idx + \"_\" + d_idx)\n",
    "            # print(str_combination)\n",
    "            result_list_by_dest = []\n",
    "            \n",
    "            csv_list = [ csv for csv in os.listdir(base_path+\"/240304/01_rawData\") if  str_combination in csv]\n",
    "                    \n",
    "            if len(csv_list) == 5:\n",
    "                # 5이상면 합치기 \n",
    "                result_list_by_dest.append(d_idx)\n",
    "                result_list_by_dest.append(return_collect_list(csv_list))\n",
    "            else:\n",
    "                # 데이터가 없거나 5일치가 안 나오는 경우에도 0으로 넣어야\n",
    "                # o_idx == \"소요산\"  [[소요산,[]], [동두천,[]],...  ]\n",
    "                result_list_by_dest.append(d_idx)\n",
    "                result_list_by_dest.append([0])\n",
    "                \n",
    "            result_list_by_origin.append(result_list_by_dest)\n",
    "            # print(result_list_by_origin)\n",
    "        \n",
    "        # print(result_list_by_origin)\n",
    "        \n",
    "        # >> 그림 그리기\n",
    "        draw_boxplot(o_idx, line_idx, station_number, result_list_by_origin)\n",
    "        \n",
    "        print(f\"Completed... {time.strftime('%H:%M:%S')}\")\n",
    "    \n",
    "        \n"
   ]
  }
 ],
 "metadata": {
  "kernelspec": {
   "display_name": "Python 3",
   "language": "python",
   "name": "python3"
  },
  "language_info": {
   "codemirror_mode": {
    "name": "ipython",
    "version": 3
   },
   "file_extension": ".py",
   "mimetype": "text/x-python",
   "name": "python",
   "nbconvert_exporter": "python",
   "pygments_lexer": "ipython3",
   "version": "3.10.3"
  }
 },
 "nbformat": 4,
 "nbformat_minor": 2
}
