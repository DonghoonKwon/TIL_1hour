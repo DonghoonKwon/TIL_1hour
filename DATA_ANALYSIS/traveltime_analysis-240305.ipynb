{
 "cells": [
  {
   "cell_type": "code",
   "execution_count": 1,
   "metadata": {},
   "outputs": [],
   "source": [
    "## 1) Basic\n",
    "import os\n",
    "import matplotlib\n",
    "import matplotlib.pyplot as plt\n",
    "import pandas as pd\n",
    "import numpy as np\n",
    "import numpy.random as rnd\n",
    "import random\n",
    "import copy\n",
    "import gc\n",
    "import itertools\n",
    "from collections import defaultdict\n",
    "from datetime import datetime, timedelta"
   ]
  },
  {
   "cell_type": "code",
   "execution_count": 8,
   "metadata": {},
   "outputs": [
    {
     "name": "stdout",
     "output_type": "stream",
     "text": [
      "    stnLine stnName  stnID\n",
      "0       1호선     소요산   1916\n",
      "1       1호선     동두천   1915\n",
      "2       1호선      보산   1914\n",
      "3       1호선   동두천중앙   1913\n",
      "4       1호선      지행   1912\n",
      "..      ...     ...    ...\n",
      "722   인천2호선   모래내시장   3223\n",
      "723   인천2호선      만수   3224\n",
      "724   인천2호선    남동구청   3225\n",
      "725   인천2호선   인천대공원   3226\n",
      "726   인천2호선      운연   3227\n",
      "\n",
      "[727 rows x 3 columns]\n"
     ]
    }
   ],
   "source": [
    "base_path = \"C:/Users/TLSYSLAB_3_ADMIN/Documents/R/23W11_punctuality_evaluation\"\n",
    "\n",
    "len(os.listdir(base_path+\"/240304/01_rawData\"))\n",
    "\n",
    "station_list = pd.read_csv(base_path+\"/stationInfo_stnLine_stnName.csv\", encoding=\"EUC-KR\")\n",
    "\n",
    "print(station_list)"
   ]
  },
  {
   "cell_type": "code",
   "execution_count": 11,
   "metadata": {},
   "outputs": [
    {
     "name": "stdout",
     "output_type": "stream",
     "text": [
      "['1호선' '2호선' '3호선' '4호선' '5호선' '6호선' '7호선' '8호선' '9호선' '경강선' '경의중앙선' '경춘선'\n",
      " '공항철도' '김포도시철도' '분당선' '서해선' '수인선' '신분당선' '용인경전철' '우이신설경전철' '의정부경전철'\n",
      " '인천1호선' '인천2호선']\n"
     ]
    }
   ],
   "source": [
    "station_name_list = station_list['stnLine'].unique()\n",
    "print(station_name_list)"
   ]
  },
  {
   "cell_type": "code",
   "execution_count": 34,
   "metadata": {},
   "outputs": [
    {
     "name": "stdout",
     "output_type": "stream",
     "text": [
      "[904, 1094, 1154, 982, 1161, 1595, 951, 912, 727, 1405, 1071, 1310, 1467, 940, 656, 1574, 575, 1238, 605, 998, 656, 664, 1096, 1297, 764, 880, 1199, 912, 1244, 1527, 1761, 1622, 864, 595, 1221, 1109, 1448, 1756, 1672, 849, 1524, 1225, 1661, 1225, 1707, 599, 1681, 910, 1229, 694, 1211, 1085, 576, 841, 906, 1234, 1791, 1851, 998, 819, 1037, 1924, 1278, 1144, 1127, 906, 882, 1015, 1415, 1020, 1273, 1328, 1757]\n"
     ]
    }
   ],
   "source": [
    "## def box_plot_each_OD\n",
    "\n",
    "csv_list = ['소요산_동두천중앙-210308_통행OD-240227.csv', '소요산_동두천중앙-210309_통행OD-240227.csv', '소요산_동두천중앙-210310_통행OD-240227.csv', '소요산_동두천중앙-210311_통행OD-240227.csv', '소요산_동두천중앙-210312_통행OD-240227.csv']\n",
    "\n",
    "collect_list = []\n",
    "\n",
    "for k_idx in range(0,5):\n",
    "    temp_csv = pd.read_csv(base_path+\"/240304/01_rawData/\"+csv_list[k_idx], encoding=\"EUC-KR\")\n",
    "    inveh_time_list = temp_csv['INVTIME'].values.tolist()\n",
    "    collect_list.append(inveh_time_list)\n",
    "collect_list = np.concatenate(collect_list).tolist()\n",
    "print(collect_list)"
   ]
  },
  {
   "cell_type": "code",
   "execution_count": 28,
   "metadata": {},
   "outputs": [
    {
     "name": "stdout",
     "output_type": "stream",
     "text": [
      "소요산_소요산\n",
      "소요산_동두천\n",
      "소요산_보산\n",
      "['소요산_보산-210308_통행OD-240227.csv', '소요산_보산-210309_통행OD-240227.csv', '소요산_보산-210310_통행OD-240227.csv', '소요산_보산-210311_통행OD-240227.csv', '소요산_보산-210312_통행OD-240227.csv']\n",
      "소요산_동두천중앙\n",
      "['소요산_동두천중앙-210308_통행OD-240227.csv', '소요산_동두천중앙-210309_통행OD-240227.csv', '소요산_동두천중앙-210310_통행OD-240227.csv', '소요산_동두천중앙-210311_통행OD-240227.csv', '소요산_동두천중앙-210312_통행OD-240227.csv']\n",
      "소요산_지행\n",
      "['소요산_지행-210308_통행OD-240227.csv', '소요산_지행-210309_통행OD-240227.csv', '소요산_지행-210310_통행OD-240227.csv', '소요산_지행-210311_통행OD-240227.csv', '소요산_지행-210312_통행OD-240227.csv']\n",
      "소요산_덕정\n",
      "['소요산_덕정-210308_통행OD-240227.csv', '소요산_덕정-210309_통행OD-240227.csv', '소요산_덕정-210310_통행OD-240227.csv', '소요산_덕정-210311_통행OD-240227.csv', '소요산_덕정-210312_통행OD-240227.csv']\n",
      "소요산_덕계\n",
      "['소요산_덕계-210308_통행OD-240227.csv', '소요산_덕계-210309_통행OD-240227.csv', '소요산_덕계-210310_통행OD-240227.csv', '소요산_덕계-210311_통행OD-240227.csv', '소요산_덕계-210312_통행OD-240227.csv']\n",
      "소요산_양주\n"
     ]
    },
    {
     "ename": "KeyboardInterrupt",
     "evalue": "",
     "output_type": "error",
     "traceback": [
      "\u001b[1;31m---------------------------------------------------------------------------\u001b[0m",
      "\u001b[1;31mKeyboardInterrupt\u001b[0m                         Traceback (most recent call last)",
      "Cell \u001b[1;32mIn[28], line 19\u001b[0m\n\u001b[0;32m     16\u001b[0m str_combination \u001b[38;5;241m=\u001b[39m (o_idx \u001b[38;5;241m+\u001b[39m \u001b[38;5;124m\"\u001b[39m\u001b[38;5;124m_\u001b[39m\u001b[38;5;124m\"\u001b[39m \u001b[38;5;241m+\u001b[39m d_idx)\n\u001b[0;32m     17\u001b[0m \u001b[38;5;28mprint\u001b[39m(str_combination)\n\u001b[1;32m---> 19\u001b[0m csv_list \u001b[38;5;241m=\u001b[39m [ csv \u001b[38;5;28;01mfor\u001b[39;00m csv \u001b[38;5;129;01min\u001b[39;00m \u001b[43mos\u001b[49m\u001b[38;5;241;43m.\u001b[39;49m\u001b[43mlistdir\u001b[49m\u001b[43m(\u001b[49m\u001b[43mbase_path\u001b[49m\u001b[38;5;241;43m+\u001b[39;49m\u001b[38;5;124;43m\"\u001b[39;49m\u001b[38;5;124;43m/240304/01_rawData\u001b[39;49m\u001b[38;5;124;43m\"\u001b[39;49m\u001b[43m)\u001b[49m \u001b[38;5;28;01mif\u001b[39;00m  str_combination \u001b[38;5;129;01min\u001b[39;00m csv]\n\u001b[0;32m     21\u001b[0m \u001b[38;5;28;01mif\u001b[39;00m \u001b[38;5;28mlen\u001b[39m(csv_list) \u001b[38;5;241m==\u001b[39m \u001b[38;5;241m5\u001b[39m:\n\u001b[0;32m     22\u001b[0m     \u001b[38;5;28mprint\u001b[39m(csv_list)\n",
      "\u001b[1;31mKeyboardInterrupt\u001b[0m: "
     ]
    }
   ],
   "source": [
    "idx = 0\n",
    "line_analysis = ['1호선', '2호선', '3호선', '4호선', '5호선', '6호선', '7호선', '8호선', '9호선']\n",
    "\n",
    "\n",
    "# for idx in range(0, len(line_analysis)):\n",
    "line_idx = line_analysis[idx]\n",
    "\n",
    "selected_line = station_list[station_list['stnLine'] == line_idx]\n",
    "selected_line['stnName'][0]\n",
    "\n",
    "# selected_line['stnName']\n",
    "for o_idx in ['소요산']:\n",
    "    \n",
    "    for d_idx in selected_line['stnName']:\n",
    "                \n",
    "        str_combination = (o_idx + \"_\" + d_idx)\n",
    "        print(str_combination)\n",
    "        \n",
    "        csv_list = [ csv for csv in os.listdir(base_path+\"/240304/01_rawData\") if  str_combination in csv]\n",
    "                \n",
    "        if len(csv_list) == 5:\n",
    "            print(csv_list)\n",
    "            \n",
    "        # 데이터가 없거나 5일치가 안 나오는 경우에도 0으로 넣어야\n",
    "        # o_idx == \"소요산\"  [[소요산,[]], [동두천,[]],...  ]\n",
    "            \n"
   ]
  },
  {
   "cell_type": "markdown",
   "metadata": {},
   "source": [
    "- 소요산_ㅇㅇㅇ 파일 5일치 가져와서 비었는지 비었거나 그런 파일이 없거나\n"
   ]
  }
 ],
 "metadata": {
  "kernelspec": {
   "display_name": "Python 3",
   "language": "python",
   "name": "python3"
  },
  "language_info": {
   "codemirror_mode": {
    "name": "ipython",
    "version": 3
   },
   "file_extension": ".py",
   "mimetype": "text/x-python",
   "name": "python",
   "nbconvert_exporter": "python",
   "pygments_lexer": "ipython3",
   "version": "3.10.3"
  }
 },
 "nbformat": 4,
 "nbformat_minor": 2
}
