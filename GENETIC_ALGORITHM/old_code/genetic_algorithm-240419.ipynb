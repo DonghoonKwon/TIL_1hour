{
 "cells": [
  {
   "cell_type": "code",
   "execution_count": 319,
   "metadata": {},
   "outputs": [],
   "source": [
    "import matplotlib\n",
    "import matplotlib.pyplot as plt\n",
    "import pandas as pd\n",
    "import numpy as np\n",
    "import numpy.random as rnd\n",
    "import random\n",
    "import math\n",
    "import copy"
   ]
  },
  {
   "cell_type": "markdown",
   "metadata": {},
   "source": [
    "## 0. Parameters settings"
   ]
  },
  {
   "cell_type": "code",
   "execution_count": 320,
   "metadata": {},
   "outputs": [],
   "source": [
    "num_pop = 100\n",
    "dimension = 2\n",
    "size = 7 #(-100<= X <=100 by binary)\n",
    "\n",
    "crossover_prob = 0.7 # 0.7, 0.8, 0.9\n",
    "mutation_prob = 0.05 # 0.01, 0.03, 0.05\n",
    "\n",
    "function_selected = \"Rastrigin\" #Sphere #Rastrigin "
   ]
  },
  {
   "cell_type": "markdown",
   "metadata": {},
   "source": [
    "## 1. Functions"
   ]
  },
  {
   "cell_type": "markdown",
   "metadata": {},
   "source": [
    "### 1.1. About chromosomes"
   ]
  },
  {
   "cell_type": "code",
   "execution_count": 321,
   "metadata": {},
   "outputs": [],
   "source": [
    "\"\"\"\n",
    "Generate random solution\n",
    "\"\"\"\n",
    "def generate_random_solution(size):\n",
    "    solution = []\n",
    "    chromosome = []\n",
    "    sign = []\n",
    "    \n",
    "    # Chromosome\n",
    "    current_size = 0\n",
    "    while current_size < size:\n",
    "        chromosome.append(random.randint(0,1))\n",
    "        current_size = current_size + 1\n",
    "    \n",
    "    # Sign + -\n",
    "    sign_candidate = [-1, 1]\n",
    "    sign.append(random.choice(sign_candidate))\n",
    "\n",
    "    # Merge solution\n",
    "    solution.append(chromosome)\n",
    "    solution.append(sign)\n",
    "    # print(solution)\n",
    "\n",
    "    return solution\n",
    "\n",
    "\"\"\"\n",
    "Chromosome genotype solution value function\n",
    "\"\"\"\n",
    "\n",
    "def chromosome_bin_to_decimal(chromosome): \n",
    "    #\n",
    "    power = len(chromosome[0])-1    \n",
    "    sum = 0\n",
    "    \n",
    "    #\n",
    "    for idx in range(0,len(chromosome[0])):\n",
    "        sum = sum + (chromosome[0][idx]) * (2**power)\n",
    "        power = power - 1\n",
    "    \n",
    "    return sum * chromosome[1][0]\n"
   ]
  },
  {
   "cell_type": "markdown",
   "metadata": {},
   "source": [
    "### 1.2. Objective functions"
   ]
  },
  {
   "cell_type": "code",
   "execution_count": 322,
   "metadata": {},
   "outputs": [],
   "source": [
    "\"\"\"\n",
    "Sphere function(objective)\n",
    "input: decimal\n",
    "\"\"\"\n",
    "def Sphere_function(x):\n",
    "    return x**2\n",
    "\n",
    "def Rastrigin_function(x):\n",
    "    return (x**2 - 10 * math.cos(2*(math.pi)*x) + 10)\n"
   ]
  },
  {
   "cell_type": "code",
   "execution_count": 323,
   "metadata": {},
   "outputs": [],
   "source": [
    "\"\"\"\n",
    "Calculate objective function and judge the best solution\n",
    "\"\"\"\n",
    "\n",
    "def calculate_objective_function(solution_set):\n",
    "\n",
    "    value_set = []\n",
    "    for sol_idx in range(0, len(solution_set)):\n",
    "        \n",
    "        sum = 0\n",
    "        if function_selected == 'Sphere':    \n",
    "            for dim in range(0,dimension):\n",
    "                sum = sum + Sphere_function(chromosome_bin_to_decimal(solution_set[sol_idx][dim]))\n",
    "            value_set.append(sum)\n",
    "            \n",
    "        elif function_selected == 'Rastrigin':    \n",
    "            for dim in range(0,dimension):\n",
    "                sum = sum + Rastrigin_function(chromosome_bin_to_decimal(solution_set[sol_idx][dim]))\n",
    "            value_set.append(sum)\n",
    "        else:\n",
    "            print(\"PLEASE SET YOUR FUNCTION\")\n",
    "\n",
    "    # print(value_set)\n",
    "    \n",
    "    return value_set"
   ]
  },
  {
   "cell_type": "markdown",
   "metadata": {},
   "source": [
    "### 1.3. About selection"
   ]
  },
  {
   "cell_type": "code",
   "execution_count": 324,
   "metadata": {},
   "outputs": [],
   "source": [
    "\"\"\"\n",
    "Calculate objective function and compose selection probability (1st: 50%, 2nd: 25%, 3rd: 12.5% ...)\n",
    "\"\"\"\n",
    "\n",
    "def calculate_obj_and_compose_selection_probability(solution_set):\n",
    "\n",
    "    value_set = calculate_objective_function(solution_set)\n",
    "    \n",
    "    # Ascending\n",
    "    temp_df = pd.DataFrame({\"index\":(range(0,num_pop)), \"obj.val\": value_set})\n",
    "    temp_df = temp_df.sort_values('obj.val', ascending=True)\n",
    "    increasing_index = temp_df['index'].values.tolist()\n",
    "       \n",
    "    #\n",
    "    selection_prob = [-999 for i in range(0,num_pop)]\n",
    "    sum1_idx = 0\n",
    "    for count in range(0,(num_pop-1)):\n",
    "        #\n",
    "        # print(f'{count}: {increasing_index}')\n",
    "        where_point = increasing_index.index(count)\n",
    "        selection_prob[where_point] = 0.5*(0.5)**(count)\n",
    "        sum1_idx = sum1_idx + 0.5*(0.5)**(count)\n",
    "    \n",
    "    where_point = increasing_index.index(num_pop-1)\n",
    "    selection_prob[where_point] = 1 - sum1_idx\n",
    "    \n",
    "    # print(f'selection_prob: {selection_prob}')\n",
    "            \n",
    "    return selection_prob\n",
    "\n"
   ]
  },
  {
   "cell_type": "code",
   "execution_count": 325,
   "metadata": {},
   "outputs": [],
   "source": [
    "\"\"\"\n",
    "Calculate objective function and compose selection probability based on reciprocal of fitness values\n",
    "\"\"\"\n",
    "def calculate_obj_and_compose_selection_probability_fitnessvalue(solution_set):\n",
    "    \n",
    "    value_set = calculate_objective_function(solution_set)\n",
    "    # print(value_set)\n",
    "    \n",
    "    # Reciprocal\n",
    "    value_recip_set = []\n",
    "    for v in value_set:\n",
    "        if v == 0:\n",
    "            value_recip_set.append(0)\n",
    "        else:\n",
    "            value_recip_set.append(1/v)\n",
    "    \n",
    "    denom = np.sum(value_recip_set)\n",
    "    selection_prob = []\n",
    "    for i in value_recip_set:\n",
    "        selection_prob.append(i/denom)\n",
    "    \n",
    "            \n",
    "    return selection_prob"
   ]
  },
  {
   "cell_type": "markdown",
   "metadata": {},
   "source": [
    "### 1.4. Crossver and Mutation"
   ]
  },
  {
   "cell_type": "code",
   "execution_count": 326,
   "metadata": {},
   "outputs": [],
   "source": [
    "\"\"\"\n",
    "One-point crossover\n",
    ": between same dimension\n",
    "\n",
    "\"\"\"\n",
    "def execute_crossover_standard(solution_1, solution_2):\n",
    "    \n",
    "    solution_1_tmp = copy.deepcopy(solution_1)\n",
    "    solution_2_tmp = copy.deepcopy(solution_2)\n",
    "    # print(f'solution tmp: {solution_1_tmp}, {solution_2_tmp}')\n",
    "    # Crossover\n",
    "    dim = 0\n",
    "    while dim < dimension:\n",
    "        \n",
    "        # Save current solutions\n",
    "        current_sol1 = solution_1_tmp[dim][0]\n",
    "        current_sol2 = solution_2_tmp[dim][0]\n",
    "        # print(f'{current_sol1}\\n{current_sol2}')\n",
    "        \n",
    "        # Copy the new solution from the current solutions\n",
    "        new_sol1 = copy.deepcopy(current_sol1)\n",
    "        new_sol2 = copy.deepcopy(current_sol2)\n",
    "        \n",
    "        # Find location for one-point crossover\n",
    "        point_loc = random.randint(1,(len(current_sol1)-2))\n",
    "        \n",
    "        # print(f'len: {(len(current_sol1)-1)}')\n",
    "        \n",
    "        # print(f'point_loc: {point_loc}')\n",
    "        \n",
    "        for loc_idx in range(0, point_loc):\n",
    "            new_sol1[loc_idx] = current_sol2[loc_idx]\n",
    "            new_sol2[loc_idx] = current_sol1[loc_idx]\n",
    "        \n",
    "        solution_1_tmp[dim][0] = new_sol1\n",
    "        solution_2_tmp[dim][0] = new_sol2\n",
    "        \n",
    "        # Update\n",
    "        dim = dim + 1\n",
    "\n",
    "    # print(f'{solution_1_tmp}\\n{solution_2_tmp}')\n",
    "    return solution_1_tmp, solution_2_tmp\n",
    "\n",
    "\"\"\"\n",
    "Modified crossover: crop & merge\n",
    "\"\"\"\n",
    "def execute_crossover_modified(solution_1, solution_2):\n",
    "        \n",
    "    solution_1_tmp = copy.deepcopy(solution_1)\n",
    "    solution_2_tmp = copy.deepcopy(solution_2)\n",
    "    print(f'solution tmp: {solution_1_tmp}, {solution_2_tmp}')\n",
    "    # Crossover\n",
    "    dim = 0\n",
    "    while dim < dimension:\n",
    "        \n",
    "        # Save current solutions\n",
    "        current_sol1 = solution_1_tmp[dim][0]\n",
    "        current_sol2 = solution_2_tmp[dim][0]\n",
    "        print(f'{current_sol1}\\n{current_sol2}')\n",
    "        \n",
    "        # Copy the new solution from the current solutions\n",
    "        new_sol1 = copy.deepcopy(current_sol1)\n",
    "        new_sol2 = copy.deepcopy(current_sol2)\n",
    "                \n",
    "        # CROP: Find locations for crop in consecutive numbers (0~5) \n",
    "        crop_loc = random.randint(0,(len(current_sol1)-2))\n",
    "        print(f'crop_loc: {crop_loc}')\n",
    "        \n",
    "        # MERGE: Find two locations for merge (7C2)\n",
    "        merge_loc = list(range(len(current_sol1)))\n",
    "        merge_list = random.sample(merge_loc, 2)\n",
    "        print(f'merge_list: {merge_list}')\n",
    "        \n",
    "        #\n",
    "        new_sol1[crop_loc] = current_sol2[merge_list[0]]\n",
    "        new_sol1[crop_loc+1] = current_sol2[merge_list[1]]\n",
    "        \n",
    "        new_sol2[merge_list[0]] = current_sol1[crop_loc]\n",
    "        new_sol2[merge_list[1]] = current_sol1[crop_loc+1]   \n",
    "                \n",
    "        solution_1_tmp[dim][0] = new_sol1\n",
    "        solution_2_tmp[dim][0] = new_sol2\n",
    "                \n",
    "        # Update\n",
    "        dim = dim + 1\n",
    "\n",
    "    # print(f'{solution_1_tmp}\\n{solution_2_tmp}')\n",
    "    return solution_1_tmp, solution_2_tmp\n"
   ]
  },
  {
   "cell_type": "code",
   "execution_count": 327,
   "metadata": {},
   "outputs": [],
   "source": [
    "\"\"\"\n",
    "Standard mutation\n",
    ": select only one\n",
    "\"\"\"\n",
    "def execute_mutation_standard(new_solution_1, new_solution_2):\n",
    "\n",
    "    remember_signal = -99\n",
    "    # Select\n",
    "    if random.random() <= 0.5:\n",
    "        mutation_target_chromosome = copy.deepcopy(new_solution_1)\n",
    "        remember_signal = 1\n",
    "    else:\n",
    "        mutation_target_chromosome = copy.deepcopy(new_solution_2)\n",
    "        remember_signal = 2\n",
    "        \n",
    "    # print(\"!: \",remember_signal)\n",
    "\n",
    "    # Choose the location randomly along all dimension \n",
    "    dim = 0\n",
    "    while dim < dimension:\n",
    "        temp_chromosome = mutation_target_chromosome[dim][0]\n",
    "        # print(temp_chromosome)\n",
    "        \n",
    "        point_loc = random.randint(0,(len(temp_chromosome)-1))\n",
    "        \n",
    "        # print(f'{point_loc}: {temp_chromosome[point_loc]}')\n",
    "        \n",
    "        if temp_chromosome[point_loc] == 0:\n",
    "            temp_chromosome[point_loc] = 1\n",
    "        else:\n",
    "            temp_chromosome[point_loc] = 0\n",
    "            \n",
    "        # print(temp_chromosome)\n",
    "        # print(\"\\n\")\n",
    "        dim = dim + 1\n",
    "\n",
    "    if remember_signal == 1:\n",
    "        new_solution_1 = copy.deepcopy(mutation_target_chromosome)\n",
    "    elif remember_signal == 2:\n",
    "        new_solution_2 = copy.deepcopy(mutation_target_chromosome)\n",
    "    else:\n",
    "        print(\"error\")\n",
    "        \n",
    "    return new_solution_1, new_solution_2\n",
    "\n",
    "\"\"\"\n",
    "Modified mutation\n",
    ": select 1~3\n",
    "\"\"\"\n",
    "def execute_mutation_modified(new_solution_1, new_solution_2):\n",
    "    pass"
   ]
  },
  {
   "cell_type": "markdown",
   "metadata": {},
   "source": [
    "## 2. Generate initial population\n",
    "[[0, 0, 1, 0, 0, 0, 0], [sign]]"
   ]
  },
  {
   "cell_type": "code",
   "execution_count": 328,
   "metadata": {},
   "outputs": [
    {
     "name": "stdout",
     "output_type": "stream",
     "text": [
      "[[0, 0, 0, 0, 0, 1, 1], [1]]\n",
      "3\n"
     ]
    }
   ],
   "source": [
    "\"\"\"\n",
    "Example of chromosome\n",
    "\"\"\"\n",
    "chromosome = generate_random_solution(size)\n",
    "val = chromosome_bin_to_decimal(chromosome)\n",
    "\n",
    "print(chromosome)\n",
    "print(val)"
   ]
  },
  {
   "cell_type": "code",
   "execution_count": 329,
   "metadata": {},
   "outputs": [],
   "source": [
    "\"\"\"\n",
    "Generate intial population\n",
    "\"\"\"\n",
    "solution_set = []\n",
    "\n",
    "successful_pop = 1\n",
    "while successful_pop <= num_pop:\n",
    "    \n",
    "    # Generate    \n",
    "    temp_solution_set = []\n",
    "    success_dim = 0\n",
    "    while success_dim < dimension:\n",
    "        temp_chromosome = generate_random_solution(size)\n",
    "        val = chromosome_bin_to_decimal(temp_chromosome)\n",
    "    \n",
    "        # for the warm initial solution: -100 ~ +100\n",
    "        if (val >= -100) &  (val <= 100):\n",
    "            temp_solution_set.append(temp_chromosome)\n",
    "            success_dim = success_dim + 1\n",
    "        else:\n",
    "            pass\n",
    "            # print(f'Infeasible!...')\n",
    "    # Append\n",
    "    solution_set.append(temp_solution_set)\n",
    "    # print(f'Generated num of population: {successful_pop}')\n",
    "    \n",
    "    # Update\n",
    "    successful_pop = successful_pop + 1\n",
    "    \n",
    "# OUTPUT: solution_set"
   ]
  },
  {
   "cell_type": "code",
   "execution_count": 330,
   "metadata": {},
   "outputs": [
    {
     "name": "stdout",
     "output_type": "stream",
     "text": [
      "[[[1, 0, 1, 0, 1, 0, 0], [1]], [[1, 0, 0, 0, 0, 0, 0], [1]]]\n",
      "[[[0, 0, 1, 0, 1, 1, 0], [-1]], [[0, 1, 0, 1, 0, 1, 0], [-1]]]\n",
      "[[[1, 0, 1, 1, 1, 0, 0], [1]], [[0, 1, 1, 1, 0, 1, 1], [1]]]\n",
      "[[[1, 0, 0, 0, 1, 0, 1], [-1]], [[0, 1, 0, 0, 1, 1, 1], [1]]]\n",
      "[[[0, 0, 0, 1, 0, 0, 1], [1]], [[0, 1, 0, 1, 0, 1, 0], [-1]]]\n",
      "[[[0, 1, 1, 1, 0, 1, 1], [1]], [[0, 0, 1, 0, 0, 0, 1], [1]]]\n",
      "[[[0, 0, 0, 1, 0, 0, 0], [1]], [[1, 0, 0, 1, 1, 1, 0], [-1]]]\n",
      "[[[0, 1, 0, 0, 0, 1, 1], [1]], [[1, 0, 1, 0, 1, 0, 0], [1]]]\n",
      "[[[0, 1, 1, 1, 0, 1, 0], [1]], [[1, 1, 0, 0, 1, 0, 0], [1]]]\n",
      "[[[1, 0, 0, 1, 0, 1, 1], [1]], [[1, 0, 0, 0, 0, 0, 1], [-1]]]\n",
      "[[[0, 0, 0, 0, 1, 0, 0], [-1]], [[0, 1, 1, 0, 1, 0, 1], [-1]]]\n",
      "[[[1, 0, 1, 1, 1, 0, 1], [-1]], [[0, 1, 1, 1, 1, 1, 1], [1]]]\n",
      "[[[0, 1, 1, 1, 1, 0, 1], [1]], [[1, 0, 0, 0, 1, 0, 0], [-1]]]\n",
      "[[[0, 1, 0, 1, 1, 0, 0], [-1]], [[1, 0, 1, 1, 0, 0, 1], [1]]]\n",
      "[[[0, 0, 0, 0, 0, 0, 0], [1]], [[0, 0, 1, 0, 0, 1, 1], [1]]]\n",
      "[[[0, 1, 1, 0, 0, 1, 0], [1]], [[1, 1, 0, 0, 1, 0, 0], [1]]]\n",
      "[[[0, 0, 1, 0, 1, 1, 0], [1]], [[1, 0, 0, 0, 1, 1, 0], [-1]]]\n",
      "[[[0, 1, 0, 1, 0, 1, 1], [-1]], [[0, 1, 0, 0, 1, 0, 1], [1]]]\n",
      "[[[0, 1, 1, 1, 1, 1, 1], [1]], [[0, 0, 1, 0, 0, 1, 1], [-1]]]\n",
      "[[[0, 0, 1, 1, 1, 0, 0], [-1]], [[0, 1, 1, 1, 0, 0, 1], [-1]]]\n",
      "[[[1, 0, 1, 1, 0, 1, 1], [-1]], [[1, 0, 0, 1, 0, 1, 0], [-1]]]\n",
      "[[[1, 0, 1, 0, 0, 0, 1], [1]], [[0, 0, 0, 1, 1, 1, 0], [1]]]\n",
      "[[[0, 0, 0, 0, 0, 0, 0], [1]], [[0, 0, 0, 0, 1, 1, 0], [1]]]\n",
      "[[[0, 1, 1, 1, 0, 0, 0], [-1]], [[0, 0, 1, 0, 1, 1, 1], [-1]]]\n",
      "[[[1, 0, 0, 1, 1, 1, 0], [-1]], [[1, 0, 1, 0, 1, 1, 0], [1]]]\n",
      "[[[1, 0, 0, 0, 1, 1, 0], [1]], [[0, 0, 1, 1, 0, 0, 1], [-1]]]\n",
      "[[[0, 1, 1, 0, 1, 1, 1], [1]], [[0, 0, 1, 1, 0, 1, 0], [-1]]]\n",
      "[[[1, 0, 1, 1, 0, 1, 1], [-1]], [[0, 1, 1, 1, 0, 0, 0], [-1]]]\n",
      "[[[1, 0, 0, 0, 0, 0, 0], [1]], [[0, 0, 1, 0, 0, 1, 0], [-1]]]\n",
      "[[[0, 1, 1, 1, 1, 1, 0], [1]], [[0, 0, 1, 0, 0, 1, 0], [1]]]\n",
      "[[[0, 1, 0, 0, 1, 0, 0], [1]], [[0, 1, 1, 1, 0, 0, 1], [-1]]]\n",
      "[[[1, 0, 1, 0, 0, 1, 0], [1]], [[1, 0, 1, 1, 0, 0, 1], [-1]]]\n",
      "[[[0, 1, 0, 1, 0, 0, 1], [-1]], [[0, 1, 0, 0, 1, 1, 0], [1]]]\n",
      "[[[0, 1, 0, 1, 1, 0, 0], [1]], [[1, 1, 0, 0, 0, 1, 0], [-1]]]\n",
      "[[[0, 0, 0, 0, 1, 1, 1], [-1]], [[0, 1, 1, 1, 0, 1, 1], [-1]]]\n",
      "[[[1, 1, 0, 0, 0, 1, 1], [-1]], [[1, 0, 1, 0, 0, 0, 1], [-1]]]\n",
      "[[[0, 1, 1, 0, 0, 1, 1], [1]], [[0, 1, 1, 1, 0, 0, 0], [-1]]]\n",
      "[[[1, 0, 0, 0, 1, 1, 0], [1]], [[0, 1, 1, 1, 0, 0, 0], [-1]]]\n",
      "[[[0, 0, 1, 1, 1, 1, 0], [1]], [[0, 0, 1, 1, 1, 0, 0], [1]]]\n",
      "[[[1, 0, 0, 1, 0, 1, 0], [-1]], [[1, 0, 0, 1, 1, 0, 0], [1]]]\n",
      "[[[0, 0, 1, 0, 1, 0, 0], [1]], [[0, 1, 1, 1, 0, 0, 0], [1]]]\n",
      "[[[1, 1, 0, 0, 0, 0, 1], [-1]], [[0, 1, 1, 0, 0, 1, 0], [1]]]\n",
      "[[[0, 0, 1, 1, 1, 0, 1], [-1]], [[1, 0, 1, 1, 1, 1, 0], [-1]]]\n",
      "[[[0, 1, 1, 1, 1, 1, 1], [-1]], [[0, 1, 0, 0, 0, 1, 1], [1]]]\n",
      "[[[1, 0, 1, 1, 1, 1, 0], [-1]], [[1, 0, 1, 1, 1, 1, 1], [-1]]]\n",
      "[[[1, 1, 0, 0, 0, 1, 1], [1]], [[0, 0, 1, 0, 0, 0, 1], [1]]]\n",
      "[[[0, 0, 0, 0, 0, 0, 1], [-1]], [[1, 0, 1, 1, 0, 1, 0], [1]]]\n",
      "[[[1, 0, 0, 1, 0, 1, 0], [-1]], [[0, 1, 1, 0, 0, 0, 0], [1]]]\n",
      "[[[0, 1, 0, 0, 1, 0, 0], [-1]], [[0, 0, 1, 1, 0, 1, 0], [1]]]\n",
      "[[[0, 0, 1, 1, 1, 0, 0], [-1]], [[0, 0, 1, 1, 1, 0, 0], [-1]]]\n",
      "[[[1, 0, 1, 1, 1, 1, 1], [-1]], [[1, 0, 1, 0, 1, 0, 1], [1]]]\n",
      "[[[0, 1, 1, 1, 1, 0, 0], [1]], [[1, 0, 0, 0, 0, 0, 0], [1]]]\n",
      "[[[0, 1, 1, 1, 1, 1, 1], [-1]], [[1, 0, 0, 1, 0, 1, 1], [1]]]\n",
      "[[[0, 1, 0, 1, 1, 1, 1], [1]], [[1, 0, 0, 0, 0, 0, 0], [1]]]\n",
      "[[[1, 1, 0, 0, 0, 1, 1], [-1]], [[1, 0, 0, 1, 0, 1, 1], [-1]]]\n",
      "[[[0, 1, 0, 0, 0, 0, 1], [-1]], [[0, 0, 0, 1, 1, 1, 0], [-1]]]\n",
      "[[[1, 0, 0, 0, 0, 0, 0], [1]], [[0, 1, 0, 0, 1, 0, 1], [1]]]\n",
      "[[[0, 1, 0, 0, 0, 1, 0], [-1]], [[0, 0, 1, 0, 0, 0, 1], [-1]]]\n",
      "[[[0, 0, 0, 0, 1, 1, 1], [-1]], [[1, 0, 0, 0, 0, 1, 0], [-1]]]\n",
      "[[[1, 0, 1, 1, 1, 1, 1], [-1]], [[0, 1, 1, 1, 0, 1, 0], [-1]]]\n",
      "[[[0, 0, 0, 1, 1, 0, 1], [-1]], [[1, 0, 1, 1, 1, 1, 0], [1]]]\n",
      "[[[0, 1, 1, 0, 1, 0, 1], [-1]], [[0, 1, 1, 0, 0, 1, 0], [1]]]\n",
      "[[[1, 1, 0, 0, 0, 1, 1], [-1]], [[0, 0, 0, 1, 0, 1, 1], [1]]]\n",
      "[[[1, 0, 0, 0, 0, 0, 0], [1]], [[1, 0, 1, 0, 1, 0, 1], [1]]]\n",
      "[[[0, 1, 0, 1, 0, 0, 1], [1]], [[0, 0, 1, 0, 1, 1, 0], [1]]]\n",
      "[[[0, 1, 1, 0, 0, 0, 0], [-1]], [[1, 1, 0, 0, 0, 0, 1], [1]]]\n",
      "[[[0, 1, 0, 1, 0, 1, 0], [-1]], [[1, 0, 1, 0, 0, 0, 0], [1]]]\n",
      "[[[1, 0, 0, 1, 0, 1, 0], [-1]], [[0, 1, 0, 0, 0, 0, 1], [-1]]]\n",
      "[[[0, 0, 1, 0, 0, 1, 0], [-1]], [[0, 1, 1, 0, 0, 0, 1], [1]]]\n",
      "[[[1, 0, 1, 0, 0, 1, 1], [-1]], [[0, 0, 0, 0, 1, 1, 1], [1]]]\n",
      "[[[0, 0, 0, 0, 1, 0, 1], [-1]], [[1, 0, 1, 1, 1, 1, 0], [-1]]]\n",
      "[[[0, 1, 0, 0, 1, 1, 0], [1]], [[0, 1, 0, 1, 0, 1, 1], [-1]]]\n",
      "[[[0, 0, 1, 1, 1, 1, 1], [-1]], [[0, 1, 1, 1, 0, 0, 1], [-1]]]\n",
      "[[[0, 0, 1, 1, 1, 1, 0], [-1]], [[0, 0, 0, 1, 0, 1, 1], [-1]]]\n",
      "[[[0, 1, 0, 0, 1, 1, 1], [1]], [[1, 1, 0, 0, 0, 0, 0], [-1]]]\n",
      "[[[1, 0, 1, 1, 0, 0, 1], [1]], [[0, 0, 1, 0, 0, 1, 1], [-1]]]\n",
      "[[[1, 0, 0, 0, 0, 0, 1], [-1]], [[1, 0, 0, 0, 0, 0, 1], [-1]]]\n",
      "[[[0, 1, 1, 0, 1, 1, 0], [1]], [[1, 0, 0, 0, 0, 1, 0], [1]]]\n",
      "[[[0, 0, 0, 0, 1, 1, 1], [-1]], [[0, 0, 1, 1, 0, 0, 1], [1]]]\n",
      "[[[0, 1, 1, 0, 1, 0, 0], [1]], [[0, 0, 0, 1, 1, 1, 0], [1]]]\n",
      "[[[1, 0, 0, 1, 1, 0, 0], [-1]], [[1, 1, 0, 0, 0, 1, 0], [-1]]]\n",
      "[[[1, 1, 0, 0, 0, 0, 0], [-1]], [[1, 0, 0, 1, 0, 0, 1], [-1]]]\n",
      "[[[0, 0, 0, 0, 1, 0, 1], [1]], [[0, 1, 1, 0, 1, 0, 0], [1]]]\n",
      "[[[0, 1, 1, 1, 0, 0, 1], [1]], [[0, 1, 0, 0, 0, 0, 1], [1]]]\n",
      "[[[0, 1, 1, 1, 1, 1, 1], [1]], [[0, 1, 0, 1, 0, 0, 0], [1]]]\n",
      "[[[0, 0, 0, 1, 1, 0, 0], [-1]], [[0, 1, 0, 1, 1, 0, 1], [1]]]\n",
      "[[[0, 0, 1, 1, 1, 1, 1], [1]], [[1, 0, 0, 1, 1, 1, 0], [1]]]\n",
      "[[[1, 0, 1, 0, 0, 0, 0], [1]], [[0, 0, 1, 1, 0, 0, 0], [1]]]\n",
      "[[[0, 1, 0, 0, 1, 0, 1], [-1]], [[0, 0, 0, 1, 1, 0, 0], [-1]]]\n",
      "[[[1, 0, 1, 0, 1, 1, 1], [-1]], [[0, 1, 1, 0, 1, 0, 0], [1]]]\n",
      "[[[0, 1, 1, 1, 1, 1, 1], [-1]], [[0, 0, 0, 1, 0, 1, 0], [1]]]\n",
      "[[[0, 1, 0, 0, 1, 0, 0], [-1]], [[0, 0, 1, 0, 0, 1, 0], [1]]]\n",
      "[[[0, 1, 0, 1, 1, 1, 1], [1]], [[0, 0, 0, 1, 0, 0, 0], [1]]]\n",
      "[[[0, 0, 0, 0, 1, 1, 1], [-1]], [[0, 0, 0, 1, 0, 1, 0], [1]]]\n",
      "[[[0, 0, 0, 1, 0, 0, 1], [-1]], [[0, 1, 0, 1, 0, 0, 0], [-1]]]\n",
      "[[[0, 0, 1, 0, 0, 0, 1], [-1]], [[0, 0, 1, 1, 1, 1, 1], [-1]]]\n",
      "[[[0, 1, 1, 0, 1, 1, 0], [1]], [[0, 0, 1, 1, 0, 0, 0], [-1]]]\n",
      "[[[1, 0, 1, 1, 0, 0, 0], [-1]], [[0, 1, 0, 0, 0, 0, 1], [-1]]]\n",
      "[[[0, 1, 1, 0, 1, 0, 1], [-1]], [[0, 1, 0, 1, 0, 0, 0], [-1]]]\n",
      "[[[1, 0, 1, 0, 0, 1, 0], [-1]], [[1, 0, 0, 1, 0, 1, 0], [-1]]]\n"
     ]
    }
   ],
   "source": [
    "for i in range(0, len(solution_set)):\n",
    "    \n",
    "    print(solution_set[i])"
   ]
  },
  {
   "cell_type": "markdown",
   "metadata": {},
   "source": [
    "## 3. Roulette-wheel selection"
   ]
  },
  {
   "cell_type": "code",
   "execution_count": 331,
   "metadata": {},
   "outputs": [
    {
     "name": "stdout",
     "output_type": "stream",
     "text": [
      "[11152.0, 2248.0, 11945.0, 6282.0, 1845.0, 3770.0, 6148.0, 8281.0, 13364.0, 9850.0, 2825.0, 12618.0, 8345.0, 9857.0, 361.0, 12500.0, 5384.0, 3218.0, 4330.0, 4033.0, 13757.0, 6757.0, 36.0, 3665.0, 13480.0, 5525.0, 3701.0, 11417.0, 4420.0, 4168.0, 4545.0, 14645.0, 3125.0, 11540.0, 3530.0, 16362.0, 5737.0, 8036.0, 1684.0, 11252.0, 3536.0, 11909.0, 9677.0, 5194.0, 17861.0, 10090.0, 8101.0, 7780.0, 1972.0, 1568.0, 16250.0, 7696.0, 9594.0, 6305.0, 15426.0, 1285.0, 5465.0, 1445.0, 4405.0, 12389.0, 9005.0, 5309.0, 9922.0, 11321.0, 2165.0, 11713.0, 8164.0, 6565.0, 2725.0, 6938.0, 8861.0, 3293.0, 4210.0, 1021.0, 10737.0, 8282.0, 8450.0, 7272.0, 674.0, 2900.0, 15380.0, 14545.0, 2729.0, 4338.0, 5569.0, 2169.0, 7045.0, 6976.0, 1513.0, 10273.0, 4069.0, 1620.0, 2273.0, 149.0, 1681.0, 1250.0, 3492.0, 8833.0, 4409.0, 12200.0]\n",
      "[1.1920928955078125e-07, 5.048709793414476e-29, 3.0517578125e-05, 1.6543612251060553e-24, 5.293955920339377e-23, 1.262177448353619e-29, 1.3877787807814457e-17, 3.469446951953614e-18, 1.6155871338926322e-27, 8.881784197001252e-16, 2.0194839173657902e-28, 2.524354896707238e-29, 1.8189894035458565e-12, 0.03125, 1.7763568394002505e-15, 2.710505431213761e-20, 1.2924697071141057e-26, 0.25, 1.0097419586828951e-28, 1.6940658945086007e-21, 1.0339757656912846e-25, 0.00048828125, 8.271806125530277e-25, 1.1641532182693481e-10, 3.814697265625e-06, 2.117582368135751e-22, 6.310887241768095e-30, 2.9103830456733704e-11, 4.547473508864641e-13, 5.960464477539063e-08, 7.450580596923828e-09, 0.015625, 9.5367431640625e-07, 4.0389678347315804e-28, 9.313225746154785e-10, 1.0587911840678754e-22, 1.9073486328125e-06, 5.169878828456423e-26, 1.734723475976807e-18, 1.5777218104420236e-30, 1.862645149230957e-09, 4.656612873077393e-10, 5.684341886080802e-14, 2.168404344971009e-19, 7.62939453125e-06, 6.938893903907228e-18, 1.4901161193847656e-08, 2.5849394142282115e-26, 7.275957614183426e-12, 0.0078125, 0.0625, 5.551115123125783e-17, 3.3881317890172014e-21, 2.384185791015625e-07, 8.470329472543003e-22, 3.2311742677852644e-27, 6.462348535570529e-27, 3.308722450212111e-24, 2.220446049250313e-16, 3.552713678800501e-15, 3.637978807091713e-12, 7.105427357601002e-15, 6.776263578034403e-21, 0.00390625, 1.3234889800848443e-23, 0.0001220703125, 6.617444900424222e-24, 3.1554436208840472e-30, 4.235164736271502e-22, 4.336808689942018e-19, 1.1102230246251565e-16, 1.1368683772161603e-13, 0.0009765625, 6.103515625e-05, 1.0842021724855044e-19, 1.4210854715202004e-14, 8.077935669463161e-28, 2.6469779601696886e-23, 0.5, 9.094947017729282e-13, 5.421010862427522e-20, 3.725290298461914e-09, 5.820766091346741e-11, 1.3552527156068805e-20, 2.2737367544323206e-13, 0.125, 0.0, 8.673617379884035e-19, 1.52587890625e-05, 0.000244140625, 0.001953125, 2.9802322387695312e-08, 4.76837158203125e-07, 2.0679515313825692e-25, 2.3283064365386963e-10, 4.1359030627651384e-25, 2.7755575615628914e-17, 4.440892098500626e-16, 1.4551915228366852e-11, 2.842170943040401e-14]\n",
      "[0, 1, 2, 3, 4, 5, 6, 7, 8, 9, 10, 11, 12, 13, 14, 15, 16, 17, 18, 19, 20, 21, 22, 23, 24, 25, 26, 27, 28, 29, 30, 31, 32, 33, 34, 35, 36, 37, 38, 39, 40, 41, 42, 43, 44, 45, 46, 47, 48, 49, 50, 51, 52, 53, 54, 55, 56, 57, 58, 59, 60, 61, 62, 63, 64, 65, 66, 67, 68, 69, 70, 71, 72, 73, 74, 75, 76, 77, 78, 79, 80, 81, 82, 83, 84, 85, 86, 87, 88, 89, 90, 91, 92, 93, 94, 95, 96, 97, 98, 99]\n",
      "[78 13]\n"
     ]
    }
   ],
   "source": [
    "\"\"\"\n",
    "Set the roulette-wheel and select two individual solutions\n",
    "\"\"\"\n",
    "obj_list = calculate_objective_function(solution_set)\n",
    "print(obj_list)\n",
    "\n",
    "# selection probability based on fitness values\n",
    "selection_prob = calculate_obj_and_compose_selection_probability(solution_set)\n",
    "print(selection_prob)\n",
    "\n",
    "\n",
    "# select only two chromosomes within 1~Npop\n",
    "num_list = list(range(0,(num_pop)))\n",
    "print(num_list)\n",
    "\n",
    "\n",
    "selected_pop = np.random.choice(num_list, 2, p=selection_prob, replace=False)\n",
    "print(selected_pop)\n"
   ]
  },
  {
   "cell_type": "markdown",
   "metadata": {},
   "source": [
    "## 4. Crossover"
   ]
  },
  {
   "cell_type": "code",
   "execution_count": 332,
   "metadata": {},
   "outputs": [
    {
     "name": "stdout",
     "output_type": "stream",
     "text": [
      "current\n",
      "[[[0, 0, 0, 0, 1, 1, 1], [-1]], [[0, 0, 1, 1, 0, 0, 1], [1]]]\n",
      "[[[0, 1, 0, 1, 1, 0, 0], [-1]], [[1, 0, 1, 1, 0, 0, 1], [1]]]\n",
      "new\n",
      "[[[0, 1, 0, 1, 1, 1, 1], [-1]], [[1, 0, 1, 1, 0, 0, 1], [1]]]\n",
      "[[[0, 0, 0, 0, 1, 0, 0], [-1]], [[0, 0, 1, 1, 0, 0, 1], [1]]]\n"
     ]
    }
   ],
   "source": [
    "\"\"\"\n",
    "Execute crossover with crossover probability: select only two\n",
    "\"\"\"\n",
    "# Selected two solutions\n",
    "solution_1 = solution_set[selected_pop[0]]\n",
    "solution_2 = solution_set[selected_pop[1]]\n",
    "print(f'current\\n{solution_1}\\n{solution_2}')\n",
    "\n",
    "if random.random() <= crossover_prob:\n",
    "    new_solution_1, new_solution_2 = execute_crossover_standard(solution_1, solution_2)\n",
    "    print(f'new\\n{new_solution_1}\\n{new_solution_2}')\n"
   ]
  },
  {
   "cell_type": "markdown",
   "metadata": {},
   "source": [
    "## 5. Mutation"
   ]
  },
  {
   "cell_type": "code",
   "execution_count": 333,
   "metadata": {},
   "outputs": [
    {
     "name": "stdout",
     "output_type": "stream",
     "text": [
      "current\n",
      "[[[0, 1, 0, 1, 1, 1, 1], [-1]], [[1, 0, 1, 1, 0, 0, 1], [1]]]\n",
      "[[[0, 0, 0, 0, 1, 0, 0], [-1]], [[0, 0, 1, 1, 0, 0, 1], [1]]]\n"
     ]
    }
   ],
   "source": [
    "\"\"\"\n",
    "Execute muatation with crossover probability: select only one solution between two solutions\n",
    "\"\"\"\n",
    "\n",
    "print(f'current\\n{new_solution_1}\\n{new_solution_2}')\n",
    "if random.random() <= mutation_prob: # mutation_prob\n",
    "    new_solution_1, new_solution_2 = execute_mutation_standard(new_solution_1, new_solution_2)\n",
    "    print(f'new\\n{new_solution_1}\\n{new_solution_2}')"
   ]
  },
  {
   "cell_type": "markdown",
   "metadata": {},
   "source": [
    "## 6. Alternate"
   ]
  },
  {
   "cell_type": "code",
   "execution_count": 334,
   "metadata": {},
   "outputs": [],
   "source": [
    "\"\"\"\n",
    "Alternative I\n",
    "\"\"\"\n",
    "def alternative_1(solution_set, new_solution_1, new_solution_2):\n",
    "   \n",
    "    solution_set[selected_pop[0]] = new_solution_1\n",
    "    solution_set[selected_pop[1]] = new_solution_2\n",
    "    \n",
    "    return solution_set"
   ]
  },
  {
   "cell_type": "code",
   "execution_count": 335,
   "metadata": {},
   "outputs": [],
   "source": [
    "\"\"\"\n",
    "Alternative II\n",
    "\"\"\"\n",
    "def alternative_2(solution_set, new_solution_1, new_solution_2):\n",
    "    alt2_solution_set = copy.deepcopy(solution_set)\n",
    "    alt2_obj_set = copy.deepcopy(calculate_objective_function(solution_set))\n",
    "\n",
    "    \n",
    "    if function_selected == 'Sphere':\n",
    "        # new_solution_1\n",
    "        sum_new1 = 0\n",
    "        for dim in range(0,dimension):\n",
    "            sum_new1 = sum_new1 + Sphere_function(chromosome_bin_to_decimal(new_solution_1[dim]))\n",
    "        alt2_solution_set.append(new_solution_1)\n",
    "        alt2_obj_set.append(sum_new1)\n",
    "\n",
    "\n",
    "        # new_solution_2\n",
    "        sum_new2 = 0\n",
    "        for dim in range(0,dimension):\n",
    "            sum_new2 = sum_new2 + Sphere_function(chromosome_bin_to_decimal(new_solution_2[dim]))\n",
    "        alt2_solution_set.append(new_solution_2)\n",
    "        alt2_obj_set.append(sum_new2)\n",
    "        \n",
    "    elif function_selected == 'Rastrigin':\n",
    "            # new_solution_1\n",
    "        sum_new1 = 0\n",
    "        for dim in range(0,dimension):\n",
    "            sum_new1 = sum_new1 + Rastrigin_function(chromosome_bin_to_decimal(new_solution_1[dim]))\n",
    "        alt2_solution_set.append(new_solution_1)\n",
    "        alt2_obj_set.append(sum_new1)\n",
    "\n",
    "\n",
    "        # new_solution_2\n",
    "        sum_new2 = 0\n",
    "        for dim in range(0,dimension):\n",
    "            sum_new2 = sum_new2 + Rastrigin_function(chromosome_bin_to_decimal(new_solution_2[dim]))\n",
    "        alt2_solution_set.append(new_solution_2)\n",
    "        alt2_obj_set.append(sum_new2)\n",
    "        \n",
    "    else:\n",
    "        print(\"PLEASE SET YOUR FUNCTION!\")\n",
    "\n",
    "    # Remove twice\n",
    "    ##\n",
    "    temp_df = pd.DataFrame({\"index\":(range(0,num_pop+2)), \"obj.val\": alt2_obj_set})\n",
    "    # print(temp_df)\n",
    "    temp_df = temp_df.sort_values('obj.val', ascending=True)\n",
    "    # print(temp_df)\n",
    "    increasing_index = temp_df['index'].values.tolist()\n",
    "    \n",
    "    # print(increasing_index)\n",
    "    # print(alt2_obj_set)\n",
    "     \n",
    "    alt2_solution_set.pop(increasing_index[-1])\n",
    "    alt2_obj_set.pop(increasing_index[-1])\n",
    "\n",
    "    ##\n",
    "    temp_df = pd.DataFrame({\"index\":(range(0,num_pop+1)), \"obj.val\": alt2_obj_set})\n",
    "    # print(temp_df)\n",
    "    temp_df = temp_df.sort_values('obj.val', ascending=True)\n",
    "    # print(temp_df)\n",
    "    increasing_index = temp_df['index'].values.tolist()\n",
    "    \n",
    "    # print(increasing_index)\n",
    "    # print(alt2_obj_set)\n",
    "     \n",
    "    alt2_solution_set.pop(increasing_index[-1])\n",
    "    alt2_obj_set.pop(increasing_index[-1])\n",
    "\n",
    "    # print(alt2_obj_set)\n",
    "    \n",
    "\n",
    "    # Replace solution_set with alt2_solution_set\n",
    "    return alt2_solution_set"
   ]
  },
  {
   "cell_type": "markdown",
   "metadata": {},
   "source": [
    "## 7. Indicator plot(operators analysis)"
   ]
  },
  {
   "cell_type": "code",
   "execution_count": 336,
   "metadata": {},
   "outputs": [],
   "source": [
    "\"\"\"\n",
    "Take coordinates under dimension\n",
    "\"\"\"\n",
    "def take_coordinates(solution_set):\n",
    "    \n",
    "    x_set = []\n",
    "    for sol_idx in range(0, len(solution_set)):\n",
    "        \n",
    "        x_tmp = []\n",
    "        for dim in range(0,dimension):\n",
    "            x_tmp.append(chromosome_bin_to_decimal(solution_set[sol_idx][dim]))\n",
    "        x_set.append(x_tmp)\n",
    "\n",
    "    return x_set\n",
    "        \n",
    "    # return value_set"
   ]
  },
  {
   "cell_type": "code",
   "execution_count": 337,
   "metadata": {},
   "outputs": [
    {
     "name": "stdout",
     "output_type": "stream",
     "text": [
      "[[84, 64], [-22, -42], [92, 59], [-69, 39], [9, -42], [59, 17], [8, -78], [35, 84], [58, 100], [75, -65], [-4, -53], [-93, 63], [61, -68], [-44, 89], [0, 19], [50, 100], [22, -70], [-43, 37], [63, -19], [-28, -57], [-91, -74], [81, 14], [0, 6], [-56, -23], [-78, 86], [70, -25], [55, -26], [-91, -56], [64, -18], [62, 18], [36, -57], [82, -89], [-41, 38], [44, -98], [-7, -59], [-99, -81], [51, -56], [70, -56], [30, 28], [-74, 76], [20, 56], [-97, 50], [-29, -94], [-63, 35], [-94, -95], [99, 17], [-1, 90], [-74, 48], [-36, 26], [-28, -28], [-95, 85], [60, 64], [-63, 75], [47, 64], [-99, -75], [-33, -14], [64, 37], [-34, -17], [-7, -66], [-95, -58], [-13, 94], [-53, 50], [-99, 11], [64, 85], [41, 22], [-48, 97], [-42, 80], [-74, -33], [-18, 49], [-83, 7], [-5, -94], [38, -43], [-31, -57], [-30, -11], [39, -96], [89, -19], [-65, -65], [54, 66], [-7, 25], [52, 14], [-76, -98], [-96, -73], [5, 52], [57, 33], [63, 40], [-12, 45], [31, 78], [80, 24], [-37, -12], [-87, 52], [-63, 10], [-36, 18], [47, 8], [-7, 10], [-9, -40], [-17, -31], [54, -24], [-88, -33], [-53, -40], [-82, -74]]\n",
      "198.0\n"
     ]
    }
   ],
   "source": [
    "\"\"\"\n",
    "Calculate distances between D points(dimensions), Euclidean\n",
    "\"\"\"\n",
    "# def euclidean_distance(solution_set, iteration):\n",
    "plot_for_indicators = take_coordinates(solution_set) \n",
    "\n",
    "print(plot_for_indicators)\n",
    "\n",
    "max_dist = -999\n",
    "\n",
    "# p ~ q\n",
    "for i in range(0,num_pop):\n",
    "    \n",
    "    p_set = plot_for_indicators[i]\n",
    "    for j in range(0, num_pop):\n",
    "        q_set = plot_for_indicators[j]\n",
    "        \n",
    "        sum = 0\n",
    "        for dim in range(0,dimension):\n",
    "            sum = (p_set[dim]-q_set[dim])**2\n",
    "        \n",
    "        distance = math.sqrt(sum)\n",
    "        if max_dist <= distance:\n",
    "            max_dist = distance\n",
    "\n",
    "print(max_dist)\n",
    "# return max_dist\n"
   ]
  },
  {
   "cell_type": "code",
   "execution_count": 338,
   "metadata": {},
   "outputs": [
    {
     "name": "stdout",
     "output_type": "stream",
     "text": [
      "[84, 64] [-22, -42]\n",
      "106\n",
      "2\n"
     ]
    }
   ],
   "source": [
    "ppp = plot_for_indicators[0]\n",
    "qqq = plot_for_indicators[1]\n",
    "\n",
    "print(ppp, qqq)\n",
    "\n",
    "print(ppp[1] - qqq[1])\n",
    "print(dimension)"
   ]
  },
  {
   "cell_type": "code",
   "execution_count": 339,
   "metadata": {},
   "outputs": [
    {
     "name": "stdout",
     "output_type": "stream",
     "text": [
      "!\n"
     ]
    }
   ],
   "source": [
    "\"\"\"\n",
    "Basis plot\n",
    "\"\"\"\n",
    "def basis_plot(solution_set, iteration):\n",
    "    plot_for_indicators = take_coordinates(solution_set)    \n",
    "    x, y = zip(*plot_for_indicators)\n",
    "    \n",
    "    plt.scatter(x,y, s=12, color='black')\n",
    "    plt.scatter(0,0, s=12, color='red')\n",
    "    plt.xlabel('X')\n",
    "    plt.ylabel('Y')\n",
    "    plt.xlim([-120, 120])      # X축의 범위: [xmin, xmax]\n",
    "    plt.ylim([-120, 120]) \n",
    "    plt.title(f'Iteration: {iteration}, Crossover_prob: {crossover_prob}, Mutation_prob: {mutation_prob}')\n",
    "    plt.show()\n",
    "\n",
    "    print(f'plot_for_indicators: {plot_for_indicators}')\n",
    "    print(f'minimum value: {min(calculate_objective_function(solution_set))}')\n",
    "    \n",
    "\"\"\"\n",
    "Exploration\n",
    ": Area of maximal radius circle\n",
    "\"\"\"\n",
    "\n",
    "\n",
    "\n",
    "\n",
    "\n",
    "\n",
    "\n",
    "\"\"\"\n",
    "Exploitation\n",
    ": (current area) / (initial area)\n",
    "\"\"\"\n",
    "\n",
    "\n",
    "print(\"!\")\n"
   ]
  },
  {
   "cell_type": "code",
   "execution_count": 340,
   "metadata": {},
   "outputs": [
    {
     "name": "stdout",
     "output_type": "stream",
     "text": [
      "[[84, 64], [-22, -42], [92, 59], [-69, 39], [9, -42], [59, 17], [8, -78], [35, 84], [58, 100], [75, -65], [-4, -53], [-93, 63], [61, -68], [-44, 89], [0, 19], [50, 100], [22, -70], [-43, 37], [63, -19], [-28, -57], [-91, -74], [81, 14], [0, 6], [-56, -23], [-78, 86], [70, -25], [55, -26], [-91, -56], [64, -18], [62, 18], [36, -57], [82, -89], [-41, 38], [44, -98], [-7, -59], [-99, -81], [51, -56], [70, -56], [30, 28], [-74, 76], [20, 56], [-97, 50], [-29, -94], [-63, 35], [-94, -95], [99, 17], [-1, 90], [-74, 48], [-36, 26], [-28, -28], [-95, 85], [60, 64], [-63, 75], [47, 64], [-99, -75], [-33, -14], [64, 37], [-34, -17], [-7, -66], [-95, -58], [-13, 94], [-53, 50], [-99, 11], [64, 85], [41, 22], [-48, 97], [-42, 80], [-74, -33], [-18, 49], [-83, 7], [-5, -94], [38, -43], [-31, -57], [-30, -11], [39, -96], [89, -19], [-65, -65], [54, 66], [-7, 25], [52, 14], [-76, -98], [-96, -73], [5, 52], [57, 33], [63, 40], [-12, 45], [31, 78], [80, 24], [-37, -12], [-87, 52], [-63, 10], [-36, 18], [47, 8], [-7, 10], [-9, -40], [-17, -31], [54, -24], [-88, -33], [-53, -40], [-82, -74]]\n"
     ]
    }
   ],
   "source": [
    "plot_for_indicators = take_coordinates(solution_set)\n",
    "print(plot_for_indicators)"
   ]
  },
  {
   "cell_type": "markdown",
   "metadata": {},
   "source": [
    "## @@ Iteration test @@"
   ]
  },
  {
   "cell_type": "code",
   "execution_count": 341,
   "metadata": {},
   "outputs": [],
   "source": [
    "MAX_ITR = 1000"
   ]
  },
  {
   "cell_type": "code",
   "execution_count": 342,
   "metadata": {},
   "outputs": [
    {
     "data": {
      "image/png": "[encoded data removed]",
      "text/plain": [
       "<Figure size 640x480 with 1 Axes>"
      ]
     },
     "metadata": {},
     "output_type": "display_data"
    },
    {
     "name": "stdout",
     "output_type": "stream",
     "text": [
      "plot_for_indicators: [[-97, -25], [32, -13], [-42, 27], [71, 12], [20, -52], [-68, 87], [69, 68], [80, 74], [-13, -3], [7, 6], [39, 64], [-52, 81], [-49, -30], [32, -38], [2, 50], [23, -75], [99, -5], [7, 77], [43, -69], [-41, -52], [-84, -41], [100, -20], [-67, -66], [-8, -82], [89, -84], [-40, 93], [2, 61], [-6, 55], [-7, 4], [-61, 49], [66, 88], [-63, 99], [-62, 0], [-64, 64], [39, -64], [-8, -44], [-41, -8], [79, 42], [-83, -3], [-10, 67], [-99, -14], [39, -59], [60, -67], [-84, -45], [-7, -57], [-62, 55], [-69, -50], [-49, -88], [-54, -28], [-28, -98], [-63, 81], [27, 33], [-49, -48], [-1, -27], [83, 84], [-27, -16], [-71, 96], [-52, 6], [83, -56], [17, -90], [-65, 9], [-61, -26], [-31, 29], [-16, 91], [87, 75], [92, -4], [-94, -14], [-59, 58], [100, -9], [-1, 97], [1, 57], [-67, 20], [-98, -77], [-35, -33], [-79, 2], [-30, 72], [72, 31], [-47, -56], [91, 72], [97, -35], [41, -20], [-56, 90], [87, -65], [-34, -15], [-42, 89], [83, 30], [-12, 34], [-5, 28], [-41, -43], [6, 21], [78, 40], [11, 90], [44, 31], [55, 74], [90, 35], [-60, 17], [60, 5], [-25, -58], [0, 80], [38, 9]]\n",
      "minimum value: 65.0\n"
     ]
    },
    {
     "data": {
      "image/png": "[encoded data removed]",
      "text/plain": [
       "<Figure size 640x480 with 1 Axes>"
      ]
     },
     "metadata": {},
     "output_type": "display_data"
    },
    {
     "name": "stdout",
     "output_type": "stream",
     "text": [
      "plot_for_indicators: [[32, -13], [-13, -3], [7, 6], [-7, 4], [-8, -44], [-41, -8], [27, 33], [-1, -27], [-27, -16], [-31, 29], [-34, -15], [-12, 34], [-5, 28], [6, 21], [38, 9], [16, 10], [14, 3], [14, 3], [14, 3], [14, 3], [-2, 27], [-2, 27], [-30, 23], [-24, -34], [0, -26], [0, -26], [-3, 20], [-3, 20], [-34, 0], [-9, 44], [9, -20], [9, -20], [25, -20], [-4, 6], [-4, 6], [7, 38], [-1, 17], [1, -20], [-29, 20], [-6, 31], [-29, 20], [-6, 31], [-29, 20], [-6, 31], [12, 7], [12, 7], [8, 21], [-28, 29], [-28, 29], [-38, -20], [-39, -9], [33, -24], [7, -23], [-44, -9], [-12, -41], [-4, 14], [16, 2], [8, 21], [14, 3], [-33, 17], [-33, 17], [-37, 17], [-33, 29], [-29, -19], [-12, 13], [-29, -19], [-12, 13], [-25, -35], [-28, -18], [-3, 20], [8, 21], [-9, 28], [7, 42], [-9, -23], [25, -32], [9, -4], [7, 22], [-9, 28], [-4, 14], [-4, 6], [-7, 12], [-43, 8], [-43, 8], [-43, 8], [-6, 31], [27, 33], [-24, -32], [-12, -4], [-25, -3], [-1, -7], [-7, 24], [33, -16], [-27, -24], [-27, -16], [-29, -19], [-27, -16], [-29, -19], [33, -8], [-41, -16], [-9, -8]]\n",
      "minimum value: 50.0\n"
     ]
    },
    {
     "data": {
      "image/png": "[encoded data removed]",
      "text/plain": [
       "<Figure size 640x480 with 1 Axes>"
      ]
     },
     "metadata": {},
     "output_type": "display_data"
    },
    {
     "name": "stdout",
     "output_type": "stream",
     "text": [
      "plot_for_indicators: [[-13, -3], [7, 6], [-7, 4], [14, 3], [14, 3], [14, 3], [14, 3], [-4, 6], [-4, 6], [-1, 17], [12, 7], [12, 7], [-4, 14], [16, 2], [14, 3], [9, -4], [-4, 14], [-4, 6], [-7, 12], [-12, -4], [-1, -7], [-9, -8], [-1, -11], [-5, 9], [2, 3], [6, 15], [-12, 2], [-3, -8], [-1, -7], [-1, -7], [-1, -7], [-3, 4], [14, 3], [14, 3], [9, -4], [9, -4], [7, 6], [-2, 7], [14, 3], [2, 15], [-2, 11], [-11, -8], [-11, -8], [-9, -8], [14, 3], [14, 3], [14, 3], [14, 3], [-14, 3], [-11, -8], [-11, -8], [-3, 12], [16, 2], [-1, 0], [-3, -8], [-3, -8], [-3, -8], [-1, 17], [-1, 17], [-1, 17], [1, -12], [1, -12], [1, -12], [1, -12], [-9, -7], [1, -16], [-2, -15], [-2, -15], [9, -12], [9, -12], [-1, 13], [-5, 9], [-5, 9], [-5, 9], [-5, 9], [-1, -15], [1, -4], [-1, -15], [1, -4], [-12, 5], [-3, 12], [-12, 5], [9, -12], [7, 6], [10, 11], [-3, -12], [-4, 14], [-4, 6], [-11, -8], [-4, 14], [-9, -8], [-7, 12], [-4, 6], [14, 3], [6, 3], [-9, -7], [9, -12], [-1, -8], [-9, -3], [-1, -15]]\n",
      "minimum value: 1.0\n"
     ]
    },
    {
     "data": {
      "image/png": "[encoded data removed]",
      "text/plain": [
       "<Figure size 640x480 with 1 Axes>"
      ]
     },
     "metadata": {},
     "output_type": "display_data"
    },
    {
     "name": "stdout",
     "output_type": "stream",
     "text": [
      "plot_for_indicators: [[-4, 6], [-4, 6], [-4, 6], [-1, -7], [2, 3], [-1, -7], [-1, -7], [-1, -7], [-3, 4], [-2, 7], [-1, 0], [1, -4], [1, -4], [-4, 6], [-4, 6], [6, 3], [-1, -8], [2, 3], [-1, -7], [-1, -8], [-1, -8], [-1, -8], [-1, -8], [-1, -8], [-4, 6], [-2, 3], [-2, 7], [-4, 5], [-3, 0], [-3, 0], [-2, 7], [-2, 7], [-2, 7], [-1, -8], [-2, 7], [-1, -7], [-1, -7], [-1, -8], [-1, -8], [-1, -8], [-1, -8], [-1, -3], [-1, -8], [-1, -8], [-1, -8], [-2, 3], [-3, 0], [-1, -8], [-1, -8], [-1, -3], [5, -4], [5, -4], [1, -4], [-1, -7], [-5, -4], [-1, 0], [-1, 0], [-3, 0], [-3, 0], [-3, 0], [-1, -8], [-1, -8], [-2, 7], [-1, -8], [-1, -8], [-1, -8], [-1, -8], [-3, 0], [-3, 0], [-1, -4], [-1, -8], [-1, -8], [-1, -8], [-3, 0], [-3, 0], [-1, -8], [-2, 7], [-1, -8], [5, -4], [-2, 7], [-2, 7], [-1, -7], [-2, 7], [-1, -8], [-1, -7], [-3, 0], [-1, -8], [-1, -8], [-1, -7], [-2, 7], [-1, -7], [-2, 7], [-1, -7], [-2, 7], [-2, 3], [-2, 7], [-2, 3], [-2, 7], [2, 3], [-3, 0]]\n",
      "minimum value: 1.0\n"
     ]
    },
    {
     "data": {
      "image/png": "[encoded data removed]",
      "text/plain": [
       "<Figure size 640x480 with 1 Axes>"
      ]
     },
     "metadata": {},
     "output_type": "display_data"
    },
    {
     "name": "stdout",
     "output_type": "stream",
     "text": [
      "plot_for_indicators: [[-1, 0], [-3, 0], [-3, 0], [-3, 0], [-1, 0], [-1, 0], [-3, 0], [-3, 0], [-3, 0], [-3, 0], [-3, 0], [-3, 0], [-3, 0], [-3, 0], [-1, 0], [-1, 0], [-1, 0], [-1, 0], [-3, 0], [-3, 0], [-3, 0], [-3, 0], [-3, 0], [-3, 0], [-1, 0], [-1, 0], [-1, 0], [-3, 0], [-3, 0], [-3, 0], [-3, 0], [-1, 0], [-1, 0], [-3, 0], [-1, 0], [-3, 0], [-3, 0], [-3, 0], [-3, 0], [-3, 0], [-3, 0], [-1, 0], [-1, 0], [-1, 0], [-1, 0], [-1, 0], [-1, 0], [-1, 0], [-1, 0], [-1, 0], [-1, 0], [-3, 0], [-1, 0], [-3, 0], [-1, 0], [-1, 0], [-1, 0], [-1, 0], [-1, 0], [-1, 0], [-1, 0], [-1, 0], [-3, 0], [-1, 0], [-1, 0], [-1, 0], [-1, 0], [-1, 0], [-1, 0], [-3, 0], [-1, 0], [-1, 0], [-1, 0], [-1, 0], [-1, 0], [-1, 0], [-1, 0], [-1, 0], [-1, 0], [-1, 0], [-1, 0], [-1, 0], [-1, 0], [-1, 0], [-1, 0], [-1, 0], [-1, 0], [-1, 0], [-3, 0], [-1, 0], [-3, 0], [-1, 0], [-1, 0], [-1, 0], [-1, 0], [-1, 0], [-1, 0], [-1, 0], [-1, 0], [-1, 0]]\n",
      "minimum value: 1.0\n"
     ]
    },
    {
     "data": {
      "image/png": "[encoded data removed]",
      "text/plain": [
       "<Figure size 640x480 with 1 Axes>"
      ]
     },
     "metadata": {},
     "output_type": "display_data"
    },
    {
     "name": "stdout",
     "output_type": "stream",
     "text": [
      "plot_for_indicators: [[-1, 0], [-1, 0], [-1, 0], [-1, 0], [-1, 0], [-1, 0], [-1, 0], [-1, 0], [-1, 0], [-1, 0], [-1, 0], [-1, 0], [-1, 0], [-1, 0], [-1, 0], [-1, 0], [-1, 0], [-1, 0], [-1, 0], [-1, 0], [-1, 0], [-1, 0], [-1, 0], [-1, 0], [-1, 0], [-1, 0], [-1, 0], [-1, 0], [-1, 0], [-1, 0], [-1, 0], [-1, 0], [-1, 0], [-1, 0], [-1, 0], [-1, 0], [-1, 0], [-1, 0], [-1, 0], [-1, 0], [-1, 0], [-1, 0], [-1, 0], [-1, 0], [-1, 0], [-1, 0], [-1, 0], [-1, 0], [-1, 0], [-1, 0], [-1, 0], [-1, 0], [-1, 0], [-1, 0], [-1, 0], [-1, 0], [-1, 0], [-1, 0], [-1, 0], [-1, 0], [-1, 0], [-1, 0], [-1, 0], [-1, 0], [-1, 0], [-1, 0], [-1, 0], [-1, 0], [-1, 0], [-1, 0], [-1, 0], [-1, 0], [-1, 0], [-1, 0], [-1, 0], [-1, 0], [-1, 0], [-1, 0], [-1, 0], [-1, 0], [-1, 0], [-1, 0], [-1, 0], [-1, 0], [-1, 0], [-1, 0], [-1, 0], [-1, 0], [-1, 0], [-1, 0], [-1, 0], [-1, 0], [-1, 0], [-1, 0], [-1, 0], [-1, 0], [-1, 0], [-1, 0], [-1, 0], [-1, 0]]\n",
      "minimum value: 1.0\n"
     ]
    },
    {
     "data": {
      "image/png": "[encoded data removed]",
      "text/plain": [
       "<Figure size 640x480 with 1 Axes>"
      ]
     },
     "metadata": {},
     "output_type": "display_data"
    },
    {
     "name": "stdout",
     "output_type": "stream",
     "text": [
      "plot_for_indicators: [[-1, 0], [-1, 0], [-1, 0], [-1, 0], [-1, 0], [-1, 0], [-1, 0], [-1, 0], [-1, 0], [-1, 0], [-1, 0], [-1, 0], [-1, 0], [-1, 0], [-1, 0], [-1, 0], [-1, 0], [-1, 0], [-1, 0], [-1, 0], [-1, 0], [-1, 0], [-1, 0], [-1, 0], [-1, 0], [-1, 0], [-1, 0], [-1, 0], [-1, 0], [-1, 0], [-1, 0], [-1, 0], [-1, 0], [-1, 0], [-1, 0], [-1, 0], [-1, 0], [-1, 0], [-1, 0], [-1, 0], [-1, 0], [-1, 0], [-1, 0], [-1, 0], [-1, 0], [-1, 0], [-1, 0], [-1, 0], [-1, 0], [-1, 0], [-1, 0], [-1, 0], [-1, 0], [-1, 0], [-1, 0], [-1, 0], [-1, 0], [-1, 0], [-1, 0], [-1, 0], [-1, 0], [-1, 0], [-1, 0], [-1, 0], [-1, 0], [-1, 0], [-1, 0], [-1, 0], [-1, 0], [-1, 0], [-1, 0], [-1, 0], [-1, 0], [-1, 0], [-1, 0], [-1, 0], [-1, 0], [-1, 0], [-1, 0], [-1, 0], [-1, 0], [-1, 0], [-1, 0], [-1, 0], [-1, 0], [-1, 0], [-1, 0], [-1, 0], [-1, 0], [-1, 0], [-1, 0], [-1, 0], [-1, 0], [-1, 0], [-1, 0], [-1, 0], [-1, 0], [-1, 0], [-1, 0], [-1, 0]]\n",
      "minimum value: 1.0\n"
     ]
    },
    {
     "data": {
      "image/png": "[encoded data removed]",
      "text/plain": [
       "<Figure size 640x480 with 1 Axes>"
      ]
     },
     "metadata": {},
     "output_type": "display_data"
    },
    {
     "name": "stdout",
     "output_type": "stream",
     "text": [
      "plot_for_indicators: [[-1, 0], [-1, 0], [-1, 0], [-1, 0], [-1, 0], [-1, 0], [-1, 0], [-1, 0], [-1, 0], [-1, 0], [-1, 0], [-1, 0], [-1, 0], [-1, 0], [-1, 0], [-1, 0], [-1, 0], [-1, 0], [-1, 0], [-1, 0], [-1, 0], [-1, 0], [-1, 0], [-1, 0], [-1, 0], [-1, 0], [-1, 0], [-1, 0], [-1, 0], [-1, 0], [-1, 0], [-1, 0], [-1, 0], [-1, 0], [-1, 0], [-1, 0], [-1, 0], [-1, 0], [-1, 0], [-1, 0], [-1, 0], [-1, 0], [-1, 0], [-1, 0], [-1, 0], [-1, 0], [-1, 0], [-1, 0], [-1, 0], [-1, 0], [-1, 0], [-1, 0], [-1, 0], [-1, 0], [-1, 0], [-1, 0], [-1, 0], [-1, 0], [-1, 0], [-1, 0], [-1, 0], [-1, 0], [-1, 0], [-1, 0], [-1, 0], [-1, 0], [-1, 0], [-1, 0], [-1, 0], [-1, 0], [-1, 0], [-1, 0], [-1, 0], [-1, 0], [-1, 0], [-1, 0], [-1, 0], [-1, 0], [-1, 0], [-1, 0], [-1, 0], [-1, 0], [-1, 0], [-1, 0], [-1, 0], [-1, 0], [-1, 0], [-1, 0], [-1, 0], [-1, 0], [-1, 0], [-1, 0], [-1, 0], [-1, 0], [-1, 0], [-1, 0], [-1, 0], [-1, 0], [-1, 0], [-1, 0]]\n",
      "minimum value: 1.0\n"
     ]
    },
    {
     "data": {
      "image/png": "[encoded data removed]",
      "text/plain": [
       "<Figure size 640x480 with 1 Axes>"
      ]
     },
     "metadata": {},
     "output_type": "display_data"
    },
    {
     "name": "stdout",
     "output_type": "stream",
     "text": [
      "plot_for_indicators: [[-1, 0], [-1, 0], [-1, 0], [-1, 0], [-1, 0], [-1, 0], [-1, 0], [-1, 0], [-1, 0], [-1, 0], [-1, 0], [-1, 0], [-1, 0], [-1, 0], [-1, 0], [-1, 0], [-1, 0], [-1, 0], [-1, 0], [-1, 0], [-1, 0], [-1, 0], [-1, 0], [-1, 0], [-1, 0], [-1, 0], [-1, 0], [-1, 0], [-1, 0], [-1, 0], [-1, 0], [-1, 0], [-1, 0], [-1, 0], [-1, 0], [-1, 0], [-1, 0], [-1, 0], [-1, 0], [-1, 0], [-1, 0], [-1, 0], [-1, 0], [-1, 0], [-1, 0], [-1, 0], [-1, 0], [-1, 0], [-1, 0], [-1, 0], [-1, 0], [-1, 0], [-1, 0], [-1, 0], [-1, 0], [-1, 0], [-1, 0], [-1, 0], [-1, 0], [-1, 0], [-1, 0], [-1, 0], [-1, 0], [-1, 0], [-1, 0], [-1, 0], [-1, 0], [-1, 0], [-1, 0], [-1, 0], [-1, 0], [-1, 0], [-1, 0], [-1, 0], [-1, 0], [-1, 0], [-1, 0], [-1, 0], [-1, 0], [-1, 0], [-1, 0], [-1, 0], [-1, 0], [-1, 0], [-1, 0], [-1, 0], [-1, 0], [-1, 0], [-1, 0], [-1, 0], [-1, 0], [-1, 0], [-1, 0], [-1, 0], [-1, 0], [-1, 0], [-1, 0], [-1, 0], [-1, 0], [-1, 0]]\n",
      "minimum value: 1.0\n"
     ]
    },
    {
     "data": {
      "image/png": "[encoded data removed]",
      "text/plain": [
       "<Figure size 640x480 with 1 Axes>"
      ]
     },
     "metadata": {},
     "output_type": "display_data"
    },
    {
     "name": "stdout",
     "output_type": "stream",
     "text": [
      "plot_for_indicators: [[-1, 0], [-1, 0], [-1, 0], [-1, 0], [-1, 0], [-1, 0], [-1, 0], [-1, 0], [-1, 0], [-1, 0], [-1, 0], [-1, 0], [-1, 0], [-1, 0], [-1, 0], [-1, 0], [-1, 0], [-1, 0], [-1, 0], [-1, 0], [-1, 0], [-1, 0], [-1, 0], [-1, 0], [-1, 0], [-1, 0], [-1, 0], [-1, 0], [-1, 0], [-1, 0], [-1, 0], [-1, 0], [-1, 0], [-1, 0], [-1, 0], [-1, 0], [-1, 0], [-1, 0], [-1, 0], [-1, 0], [-1, 0], [-1, 0], [-1, 0], [-1, 0], [-1, 0], [-1, 0], [-1, 0], [-1, 0], [-1, 0], [-1, 0], [-1, 0], [-1, 0], [-1, 0], [-1, 0], [-1, 0], [-1, 0], [-1, 0], [-1, 0], [-1, 0], [-1, 0], [-1, 0], [-1, 0], [-1, 0], [-1, 0], [-1, 0], [-1, 0], [-1, 0], [-1, 0], [-1, 0], [-1, 0], [-1, 0], [-1, 0], [-1, 0], [-1, 0], [-1, 0], [-1, 0], [-1, 0], [-1, 0], [-1, 0], [-1, 0], [-1, 0], [-1, 0], [-1, 0], [-1, 0], [-1, 0], [-1, 0], [-1, 0], [-1, 0], [-1, 0], [-1, 0], [-1, 0], [-1, 0], [-1, 0], [-1, 0], [-1, 0], [-1, 0], [-1, 0], [-1, 0], [-1, 0], [-1, 0]]\n",
      "minimum value: 1.0\n"
     ]
    },
    {
     "data": {
      "image/png": "[encoded data removed]",
      "text/plain": [
       "<Figure size 640x480 with 1 Axes>"
      ]
     },
     "metadata": {},
     "output_type": "display_data"
    },
    {
     "name": "stdout",
     "output_type": "stream",
     "text": [
      "plot_for_indicators: [[-1, 0], [-1, 0], [-1, 0], [-1, 0], [-1, 0], [-1, 0], [-1, 0], [-1, 0], [-1, 0], [-1, 0], [-1, 0], [-1, 0], [-1, 0], [-1, 0], [-1, 0], [-1, 0], [-1, 0], [-1, 0], [-1, 0], [-1, 0], [-1, 0], [-1, 0], [-1, 0], [-1, 0], [-1, 0], [-1, 0], [-1, 0], [-1, 0], [-1, 0], [-1, 0], [-1, 0], [-1, 0], [-1, 0], [-1, 0], [-1, 0], [-1, 0], [-1, 0], [-1, 0], [-1, 0], [-1, 0], [-1, 0], [-1, 0], [-1, 0], [-1, 0], [-1, 0], [-1, 0], [-1, 0], [-1, 0], [-1, 0], [-1, 0], [-1, 0], [-1, 0], [-1, 0], [-1, 0], [-1, 0], [-1, 0], [-1, 0], [-1, 0], [-1, 0], [-1, 0], [-1, 0], [-1, 0], [-1, 0], [-1, 0], [-1, 0], [-1, 0], [-1, 0], [-1, 0], [-1, 0], [-1, 0], [-1, 0], [-1, 0], [-1, 0], [-1, 0], [-1, 0], [-1, 0], [-1, 0], [-1, 0], [-1, 0], [-1, 0], [-1, 0], [-1, 0], [-1, 0], [-1, 0], [-1, 0], [-1, 0], [-1, 0], [-1, 0], [-1, 0], [-1, 0], [-1, 0], [-1, 0], [-1, 0], [-1, 0], [-1, 0], [-1, 0], [-1, 0], [-1, 0], [-1, 0], [-1, 0]]\n",
      "minimum value: 1.0\n"
     ]
    }
   ],
   "source": [
    "\"\"\"\n",
    "Generate intial population\n",
    "\"\"\"\n",
    "\n",
    "list_for_plot = []\n",
    "\n",
    "#\n",
    "solution_set = []\n",
    "successful_pop = 1\n",
    "while successful_pop <= num_pop:\n",
    "    \n",
    "    # Generate    \n",
    "    temp_solution_set = []\n",
    "    success_dim = 0\n",
    "    while success_dim < dimension:\n",
    "        temp_chromosome = generate_random_solution(size)\n",
    "        val = chromosome_bin_to_decimal(temp_chromosome)\n",
    "    \n",
    "        # for the warm initial solution: -100 ~ +100\n",
    "        if (val >= -100) &  (val <= 100):\n",
    "            temp_solution_set.append(temp_chromosome)\n",
    "            success_dim = success_dim + 1\n",
    "        else:\n",
    "            pass\n",
    "            # print(f'Infeasible!...')\n",
    "    # Append\n",
    "    solution_set.append(temp_solution_set)\n",
    "    # print(f'Generated num of population: {successful_pop}')\n",
    "    \n",
    "    # Update\n",
    "    successful_pop = successful_pop + 1\n",
    "\n",
    "iteration = 0\n",
    "basis_plot(solution_set, iteration)\n",
    "\n",
    "\n",
    "\n",
    "iteration = 1\n",
    "while iteration <= MAX_ITR:\n",
    "\n",
    "    \"\"\"\n",
    "    Set the roulette-wheel and select two individual solutions\n",
    "    \"\"\"\n",
    "\n",
    "    # selection probability based on fitness values\n",
    "    \n",
    "    selection_prob = calculate_obj_and_compose_selection_probability(solution_set)\n",
    "    # selection_prob = calculate_obj_and_compose_selection_probability_fitnessvalue(solution_set)\n",
    "\n",
    "    # 1~Npop\n",
    "    num_list = list(range(0,num_pop))\n",
    "    selected_pop = np.random.choice(num_list, 2, p=selection_prob, replace=False)\n",
    "    # print(selected_pop)\n",
    "\n",
    "    \"\"\"\n",
    "    Execute crossover with crossover probability: select only two\n",
    "    \"\"\"\n",
    "    # Selected two solutions\n",
    "    solution_1 = solution_set[selected_pop[0]]\n",
    "    solution_2 = solution_set[selected_pop[1]]\n",
    "    # print(f'current\\n{solution_1}\\n{solution_2}')\n",
    "\n",
    "    if random.random() <= crossover_prob:\n",
    "        new_solution_1, new_solution_2 = execute_crossover_standard(solution_1, solution_2)\n",
    "        # print(f'new\\n{new_solution_1}\\n{new_solution_2}')\n",
    "\n",
    "    \"\"\"\n",
    "    Execute muatation with crossover probability: select only one solution between two solutions\n",
    "    \"\"\"\n",
    "\n",
    "    # print(f'current\\n{new_solution_1}\\n{new_solution_2}')\n",
    "    if random.random() <= mutation_prob: # mutation_prob\n",
    "        new_solution_1, new_solution_2 = execute_mutation_standard(new_solution_1, new_solution_2)\n",
    "    # print(f'current\\n{new_solution_1}\\n{new_solution_2}')\n",
    "\n",
    "\n",
    "    \"\"\"\n",
    "    Alternative I or II\n",
    "    \"\"\"\n",
    "    solution_set = alternative_2(solution_set, new_solution_1, new_solution_2)    \n",
    "    \n",
    "    \n",
    "    \"\"\"\n",
    "    Evaluation\n",
    "    \"\"\"\n",
    "    iterative_solution_set = calculate_objective_function(solution_set)\n",
    "    \n",
    "    # print(f'{iteration} | Best solution {solution_set[iterative_solution_set.index(min(iterative_solution_set))]}, value: {min(iterative_solution_set)}, index: {iterative_solution_set.index(min(iterative_solution_set))}')\n",
    "    list_for_plot.append(min(iterative_solution_set))\n",
    "    \n",
    "    \"\"\"\n",
    "    Basis plot\n",
    "    \"\"\"\n",
    "    if iteration%100 == 0:\n",
    "        basis_plot(solution_set, iteration)\n",
    "        \n",
    "        \n",
    "    \n",
    "    # Update\n",
    "    iteration = iteration + 1\n",
    "\n"
   ]
  },
  {
   "cell_type": "code",
   "execution_count": 318,
   "metadata": {},
   "outputs": [
    {
     "ename": "NameError",
     "evalue": "name 'list_for_plot' is not defined",
     "output_type": "error",
     "traceback": [
      "\u001b[1;31m---------------------------------------------------------------------------\u001b[0m",
      "\u001b[1;31mNameError\u001b[0m                                 Traceback (most recent call last)",
      "Cell \u001b[1;32mIn[318], line 2\u001b[0m\n\u001b[0;32m      1\u001b[0m plt\u001b[38;5;241m.\u001b[39mfigure(figsize\u001b[38;5;241m=\u001b[39m(\u001b[38;5;241m20\u001b[39m,\u001b[38;5;241m6\u001b[39m))\n\u001b[1;32m----> 2\u001b[0m plt\u001b[38;5;241m.\u001b[39mplot(\u001b[43mlist_for_plot\u001b[49m)\n\u001b[0;32m      3\u001b[0m plt\u001b[38;5;241m.\u001b[39mshow()\n",
      "\u001b[1;31mNameError\u001b[0m: name 'list_for_plot' is not defined"
     ]
    },
    {
     "data": {
      "text/plain": [
       "<Figure size 2000x600 with 0 Axes>"
      ]
     },
     "metadata": {},
     "output_type": "display_data"
    }
   ],
   "source": [
    "plt.figure(figsize=(20,6))\n",
    "plt.plot(list_for_plot)\n",
    "plt.show()"
   ]
  },
  {
   "cell_type": "code",
   "execution_count": 552,
   "metadata": {},
   "outputs": [
    {
     "data": {
      "text/plain": [
       "'\\nDevelop indicators(Exploration/Exploitation)\\n'"
      ]
     },
     "execution_count": 552,
     "metadata": {},
     "output_type": "execute_result"
    }
   ],
   "source": [
    "\"\"\"\n",
    "Develop indicators(Exploration/Exploitation)\n",
    "\"\"\""
   ]
  },
  {
   "cell_type": "markdown",
   "metadata": {},
   "source": [
    "## Dev note\n",
    "- 전반적으로 오류나는거 체크(len 범위 착각)\n",
    "- selection 할때 1, 2등에 거의 몰빵해야 함 예) 50*(1/2)**(r-100)\n",
    "- Update하고 나서 feasibility 체크 따로 안 해도 될까?"
   ]
  },
  {
   "cell_type": "code",
   "execution_count": 722,
   "metadata": {},
   "outputs": [
    {
     "name": "stdout",
     "output_type": "stream",
     "text": [
      "50.0\n",
      "25.0\n",
      "12.5\n",
      "6.25\n",
      "3.125\n",
      "1.5625\n",
      "0.78125\n",
      "0.390625\n",
      "0.1953125\n",
      "0.09765625\n",
      "0.048828125\n",
      "0.0244140625\n",
      "0.01220703125\n",
      "0.006103515625\n",
      "0.0030517578125\n",
      "0.00152587890625\n",
      "0.000762939453125\n",
      "0.0003814697265625\n",
      "0.00019073486328125\n",
      "9.5367431640625e-05\n",
      "4.76837158203125e-05\n",
      "2.384185791015625e-05\n",
      "1.1920928955078125e-05\n",
      "5.9604644775390625e-06\n",
      "2.9802322387695312e-06\n",
      "1.4901161193847656e-06\n",
      "7.450580596923828e-07\n",
      "3.725290298461914e-07\n",
      "1.862645149230957e-07\n",
      "9.313225746154785e-08\n",
      "4.6566128730773926e-08\n",
      "2.3283064365386963e-08\n",
      "1.1641532182693481e-08\n",
      "5.820766091346741e-09\n",
      "2.9103830456733704e-09\n",
      "1.4551915228366852e-09\n",
      "7.275957614183426e-10\n",
      "3.637978807091713e-10\n",
      "1.8189894035458565e-10\n",
      "9.094947017729282e-11\n",
      "4.547473508864641e-11\n",
      "2.2737367544323206e-11\n",
      "1.1368683772161603e-11\n",
      "5.6843418860808015e-12\n",
      "2.8421709430404007e-12\n",
      "1.4210854715202004e-12\n",
      "7.105427357601002e-13\n",
      "3.552713678800501e-13\n",
      "1.7763568394002505e-13\n",
      "8.881784197001252e-14\n",
      "4.440892098500626e-14\n",
      "2.220446049250313e-14\n",
      "1.1102230246251565e-14\n",
      "5.551115123125783e-15\n",
      "2.7755575615628914e-15\n",
      "1.3877787807814457e-15\n",
      "6.938893903907228e-16\n",
      "3.469446951953614e-16\n",
      "1.734723475976807e-16\n",
      "8.673617379884035e-17\n",
      "4.336808689942018e-17\n",
      "2.168404344971009e-17\n",
      "1.0842021724855044e-17\n",
      "5.421010862427522e-18\n",
      "2.710505431213761e-18\n",
      "1.3552527156068805e-18\n",
      "6.776263578034403e-19\n",
      "3.3881317890172014e-19\n",
      "1.6940658945086007e-19\n",
      "8.470329472543003e-20\n",
      "4.2351647362715017e-20\n",
      "2.1175823681357508e-20\n",
      "1.0587911840678754e-20\n",
      "5.293955920339377e-21\n",
      "2.6469779601696886e-21\n",
      "1.3234889800848443e-21\n",
      "6.617444900424221e-22\n",
      "3.3087224502121107e-22\n",
      "1.6543612251060553e-22\n",
      "8.271806125530277e-23\n",
      "4.1359030627651384e-23\n",
      "2.0679515313825692e-23\n",
      "1.0339757656912846e-23\n",
      "5.169878828456423e-24\n",
      "2.5849394142282115e-24\n",
      "1.2924697071141057e-24\n",
      "6.462348535570529e-25\n",
      "3.2311742677852644e-25\n",
      "1.6155871338926322e-25\n",
      "8.077935669463161e-26\n",
      "4.0389678347315804e-26\n",
      "2.0194839173657902e-26\n",
      "1.0097419586828951e-26\n",
      "5.0487097934144756e-27\n",
      "2.5243548967072378e-27\n",
      "1.2621774483536189e-27\n",
      "6.310887241768094e-28\n",
      "3.155443620884047e-28\n",
      "1.5777218104420236e-28\n",
      "7.888609052210118e-29\n"
     ]
    }
   ],
   "source": [
    "for r in range(0, 100):\n",
    "    print(50*(0.5)**(r))"
   ]
  },
  {
   "cell_type": "code",
   "execution_count": 673,
   "metadata": {},
   "outputs": [
    {
     "name": "stdout",
     "output_type": "stream",
     "text": [
      "100\n"
     ]
    },
    {
     "ename": "ValueError",
     "evalue": "probabilities contain NaN",
     "output_type": "error",
     "traceback": [
      "\u001b[1;31m---------------------------------------------------------------------------\u001b[0m",
      "\u001b[1;31mValueError\u001b[0m                                Traceback (most recent call last)",
      "Cell \u001b[1;32mIn[673], line 4\u001b[0m\n\u001b[0;32m      1\u001b[0m \u001b[38;5;28mprint\u001b[39m(\u001b[38;5;28mlen\u001b[39m(selection_prob))\n\u001b[0;32m      3\u001b[0m num_list \u001b[38;5;241m=\u001b[39m \u001b[38;5;28mlist\u001b[39m(\u001b[38;5;28mrange\u001b[39m(\u001b[38;5;241m1\u001b[39m,(num_pop\u001b[38;5;241m+\u001b[39m\u001b[38;5;241m1\u001b[39m)))\n\u001b[1;32m----> 4\u001b[0m selected_pop \u001b[38;5;241m=\u001b[39m \u001b[43mnp\u001b[49m\u001b[38;5;241;43m.\u001b[39;49m\u001b[43mrandom\u001b[49m\u001b[38;5;241;43m.\u001b[39;49m\u001b[43mchoice\u001b[49m\u001b[43m(\u001b[49m\u001b[43mnum_list\u001b[49m\u001b[43m,\u001b[49m\u001b[43m \u001b[49m\u001b[38;5;241;43m2\u001b[39;49m\u001b[43m,\u001b[49m\u001b[43m \u001b[49m\u001b[43mp\u001b[49m\u001b[38;5;241;43m=\u001b[39;49m\u001b[43mselection_prob\u001b[49m\u001b[43m,\u001b[49m\u001b[43m \u001b[49m\u001b[43mreplace\u001b[49m\u001b[38;5;241;43m=\u001b[39;49m\u001b[38;5;28;43;01mFalse\u001b[39;49;00m\u001b[43m)\u001b[49m\n",
      "File \u001b[1;32mmtrand.pyx:954\u001b[0m, in \u001b[0;36mnumpy.random.mtrand.RandomState.choice\u001b[1;34m()\u001b[0m\n",
      "\u001b[1;31mValueError\u001b[0m: probabilities contain NaN"
     ]
    }
   ],
   "source": [
    "print(len(selection_prob))\n",
    "\n",
    "num_list = list(range(1,(num_pop+1)))\n",
    "selected_pop = np.random.choice(num_list, 2, p=selection_prob, replace=False)\n",
    "\n"
   ]
  }
 ],
 "metadata": {
  "kernelspec": {
   "display_name": "Python 3",
   "language": "python",
   "name": "python3"
  },
  "language_info": {
   "codemirror_mode": {
    "name": "ipython",
    "version": 3
   },
   "file_extension": ".py",
   "mimetype": "text/x-python",
   "name": "python",
   "nbconvert_exporter": "python",
   "pygments_lexer": "ipython3",
   "version": "3.10.3"
  }
 },
 "nbformat": 4,
 "nbformat_minor": 2
}
