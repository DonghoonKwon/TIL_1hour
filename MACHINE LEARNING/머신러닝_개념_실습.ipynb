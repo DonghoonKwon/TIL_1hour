{
 "cells": [
  {
   "cell_type": "markdown",
   "metadata": {},
   "source": [
    "## 정밀도, 재현율, F1 스코어"
   ]
  },
  {
   "cell_type": "code",
   "execution_count": 9,
   "metadata": {},
   "outputs": [
    {
     "name": "stdout",
     "output_type": "stream",
     "text": [
      "Precision: 0.909, Recall: 0.952\n",
      "F1_score: 0.93\n"
     ]
    }
   ],
   "source": [
    "\"\"\"Confusion matirx\"\"\"\n",
    "TP = 100 # True Positive: 실제 참\n",
    "FP = 10  # False Positive: 실제는 0, 예측은 1\n",
    "FN = 5   # False Negative: 실제는 1, 예측은 0\n",
    "TN = 12  # True Negative: 실제는 0, 예측은 0\n",
    "\n",
    "Precision = TP / (TP+FP)    #: 내가 True라고 예측한 값들 중\n",
    "Recall = TP / (TP+FN)       #: 실제 True인데 그게 True로 나타났을때(재현)\n",
    "\n",
    "print(f'Precision: {round(Precision,3)}, Recall: {round(Recall,3)}')\n",
    "\n",
    "# 모델 간 성능을 비교할 때\n",
    "F1_score = (2*Precision*Recall) / (Precision+Recall)\n",
    "print(f'F1_score: {round(F1_score,3)}')"
   ]
  }
 ],
 "metadata": {
  "kernelspec": {
   "display_name": "Python 3",
   "language": "python",
   "name": "python3"
  },
  "language_info": {
   "codemirror_mode": {
    "name": "ipython",
    "version": 3
   },
   "file_extension": ".py",
   "mimetype": "text/x-python",
   "name": "python",
   "nbconvert_exporter": "python",
   "pygments_lexer": "ipython3",
   "version": "3.10.3"
  }
 },
 "nbformat": 4,
 "nbformat_minor": 2
}
